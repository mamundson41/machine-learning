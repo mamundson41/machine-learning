{
 "cells": [
  {
   "cell_type": "code",
   "execution_count": 1,
   "metadata": {
    "collapsed": false
   },
   "outputs": [
    {
     "name": "stderr",
     "output_type": "stream",
     "text": [
      "Using TensorFlow backend.\n"
     ]
    }
   ],
   "source": [
    "import numpy as np\n",
    "import h5py\n",
    "import matplotlib.pyplot as plt\n",
    "%matplotlib inline\n",
    "from scipy import misc\n",
    "from keras.utils import np_utils\n",
    "from keras.models import Model\n",
    "from keras.layers import Dense, Input, merge, Convolution2D, MaxPooling2D\n",
    "from keras.layers import Dropout, Flatten\n",
    "import cPickle as pickle\n",
    "data = pickle.load(open('data.p', 'rb'))\n",
    "test_data = pickle.load(open('test_data.p', 'rb'))\n",
    "extra = pickle.load(open('extra.p', 'rb'))"
   ]
  },
  {
   "cell_type": "code",
   "execution_count": 2,
   "metadata": {
    "collapsed": true,
    "deletable": true,
    "editable": true
   },
   "outputs": [],
   "source": [
    "#Read image data into numpy array\n",
    "def image_read(name_data, path):\n",
    "    image_list = []\n",
    "    for image_name in name_data:\n",
    "        image_list.append(misc.imread(path+image_name))\n",
    "    return np.asarray(image_list)"
   ]
  },
  {
   "cell_type": "code",
   "execution_count": 3,
   "metadata": {
    "collapsed": false
   },
   "outputs": [],
   "source": [
    "#Shrinks image down to 54x54 based on bbox.  Reformats charecter bboxes to be ratio of new bbox.\n",
    "def crop_scale(data):\n",
    "    data['boxes']= [None]*len(data['image'])\n",
    "    for index in range(0,len(data['image'])):\n",
    "        top=int(max(data['top'][index].min(),0))\n",
    "        bottom = int(data['bottom'][index].max())\n",
    "        left = int(max(data['left'][index].min(),0))\n",
    "        right = int(data['right'][index].max())\n",
    "        width = right - left\n",
    "        height = bottom - top\n",
    "        data['image'][index] = data['image'][index][top:bottom,left:right,:]\n",
    "        data['image'][index] = misc.imresize(data['image'][index],(54,54),interp='bicubic')\n",
    "        null = np.full((5-len(data['top'][index])),-.5)\n",
    "        data['boxes'][index] = np.concatenate((np.concatenate((np.divide(np.subtract(data['top'][index],top),height),null)),\n",
    "        np.concatenate((np.divide(np.subtract(data['bottom'][index],top),height),null)),\n",
    "        np.concatenate((np.divide(np.subtract(data['left'][index],left),width),null)),\n",
    "        np.concatenate((np.divide(np.subtract(data['right'][index],left),width),null))))"
   ]
  },
  {
   "cell_type": "markdown",
   "metadata": {
    "deletable": true,
    "editable": true
   },
   "source": [
    "## One hot"
   ]
  },
  {
   "cell_type": "code",
   "execution_count": 4,
   "metadata": {
    "collapsed": false,
    "deletable": true,
    "editable": true,
    "scrolled": false
   },
   "outputs": [],
   "source": [
    "num_out = 6\n",
    "data['unified_label'][29929,5]=5.0\n",
    "data['hot_label'] = np.zeros((data['unified_label'].shape[0],num_out,11))\n",
    "test_data['hot_label'] = np.zeros((test_data['unified_label'].shape[0],num_out,11))\n",
    "extra['hot_label'] = np.zeros((extra['unified_label'].shape[0],num_out,11))\n",
    "for digit in range(0,num_out):\n",
    "    #print data['unified_label'].shape\n",
    "    data['hot_label'][:,digit,:] = np_utils.to_categorical(data['unified_label'][:,digit],11)\n",
    "    test_data['hot_label'][:,digit,:] = np_utils.to_categorical(test_data['unified_label'][:,digit],11)\n",
    "    extra['hot_label'][:,digit,:] = np_utils.to_categorical(extra['unified_label'][:,digit],11)"
   ]
  },
  {
   "cell_type": "code",
   "execution_count": 5,
   "metadata": {
    "collapsed": true
   },
   "outputs": [],
   "source": [
    "loss_list = ['categorical_crossentropy','categorical_crossentropy','categorical_crossentropy','categorical_crossentropy',\n",
    "            'categorical_crossentropy', 'categorical_crossentropy', 'mean_squared_error']\n",
    "metric_list = ['accuracy']\n",
    "loss_weights = [1.0,1.0,1.0,1.0,1.0,1.0,2.0]"
   ]
  },
  {
   "cell_type": "code",
   "execution_count": 6,
   "metadata": {
    "collapsed": false,
    "deletable": true,
    "editable": true
   },
   "outputs": [],
   "source": [
    "from keras.layers.normalization import BatchNormalization\n",
    "def large_cnn(num_outs):\n",
    "    input_img=Input(shape=(54,54,3))\n",
    "    con1 = Convolution2D(32, 9, 9, border_mode='valid', activation='relu')(input_img)\n",
    "    pool1 = MaxPooling2D(pool_size=(2, 2))(con1)\n",
    "    bnorm1 = BatchNormalization()(pool1)\n",
    "    con2 = Convolution2D(32, 5, 5, border_mode='valid', activation='relu')(bnorm1)\n",
    "    pool2 = MaxPooling2D(pool_size=(2, 2))(con2)\n",
    "    bnorm2 = BatchNormalization()(pool2)\n",
    "    drop1 = Dropout(0.4)(bnorm2)\n",
    "    con3 = Convolution2D(64, 3, 3, border_mode='valid', activation='relu')(drop1)\n",
    "    bnorm3 = BatchNormalization()(con3)\n",
    "    flat = Flatten()(bnorm3)\n",
    "    den1 = Dense(256, activation='relu')(flat)\n",
    "    den2 = Dense(128, activation='relu')(den1)\n",
    "    drop2 = Dropout(0.4)(den2)\n",
    "    outputs = []\n",
    "    for itr in range(0,num_outs-1):\n",
    "        outputs.append(Dense(11, activation='softmax')(drop2))\n",
    "    outputs.append(Dense(5, activation='softmax')(drop2))\n",
    "    outputs.append(Dense(20)(drop2))\n",
    "    model = Model(input=input_img, output=outputs)\n",
    "    model.compile(loss=loss_list, optimizer='adam', metrics=metric_list, loss_weights=loss_weights)\n",
    "    return model"
   ]
  },
  {
   "cell_type": "code",
   "execution_count": 7,
   "metadata": {
    "collapsed": false,
    "scrolled": true
   },
   "outputs": [
    {
     "name": "stdout",
     "output_type": "stream",
     "text": [
      "1043 105 938\n",
      "3360/3360 [==============================] - 42s      \b\b\b\b\b\b\b\b\b\b\b\b\b\b\b\b\b\b\b\b\b\b\b\b\b\b\b\b\b\b\b\b\b\b\b\b\b\b\b\b\b\b\b\b\b\b\b\b\b\b\b\b\b\b\b\b\b\b\b\b\b\b\b\b\b\b\b\b\b\b\b\b\b\b\b\b\b\b\b\b\b\b\b\b\b\b\b\b\b\b\b\b\b\b\b\b\b\b\b\b\b\b\b\b\b\b\b\b\b\b\b\b\b\b\b\b\b\b\b\b\b\b\b\b\b\b\b\b\b\b\b\b\b\b\b\b\b\b\b\b\b\b\b\b\b\b\b\b\b\b\b\b\b\b\b\b\b\b\b\b\b\b\b\b\b\b\b\b\b\b\b\b\b\b\b\b\b\b\b\b\b\b\b\b\b\b\b\b\b\b\b\b\b\b\b\b\b\b\b\b\b\b\b\b\b\b\b\b\b\b\b\b\b\b\b\b\b\b\b\b\b\b\b\b\b\b\b\b\b\b\b\b\b\b\b\b\b\b\b\b\b\b\b\b\b\b\b\b\b\b\b\b\b\b\b\b\b\b\b\b\b\b\b\b\b\b\b\b\b\b\b\b\b\b\b\b\b\b\b\b\b\b\b\b\b\b\b\b\b\b\b\b\b\b\b\b\b\b\b\b\b\b\b\b\b\b\b\b\b\b\b\b\b\b\b\b\b\b\b\b\b\b\b\b\b\b\b\b\b\b\b\b\b\b\b\b\b\b\b\b\b\b\b\b\b\b\b\b\b\b\b\b\b\b\b\b\b\b\b\b\b\b\b\b\b\b\b\b\b\b\b\b\b\b\b\b\b\b\b\b\b\b\b\b\b\b\b\b\b\b\b\b\b\b\b\b\b\b\b\b\b\b\b\b\b\b\b\b\b\b\b\b\b\b\b\b\b\b\b\b\b\b\b\n",
      "[1.8630407651265461, 0.54767510011082599, 0.534197944970358, 0.40723929518745061, 0.12001682729238555, 0.013226676730352795, 0.16819656604812258, 0.03624414563888595, 0.83184523383776343, 0.84404762018294566, 0.88363094698815114, 0.9645833103429704, 0.99910714370863773, 0.94404761422248118, 0.5184523768368221]\n",
      "['loss', 'dense_3_loss', 'dense_4_loss', 'dense_5_loss', 'dense_6_loss', 'dense_7_loss', 'dense_8_loss', 'dense_9_loss', 'dense_3_acc', 'dense_4_acc', 'dense_5_acc', 'dense_6_acc', 'dense_7_acc', 'dense_8_acc', 'dense_9_acc']\n",
      "3360/3360 [==============================] - 25s     \b\b\b\b\b\b\b\b\b\b\b\b\b\b\b\b\b\b\b\b\b\b\b\b\b\b\b\b\b\b\b\b\b\b\b\b\b\b\b\b\b\b\b\b\b\b\b\b\b\b\b\b\b\b\b\b\b\b\b\b\b\b\b\b\b\b\b\b\b\b\b\b\b\b\b\b\b\b\b\b\b\b\b\b\b\b\b\b\b\b\b\b\b\b\b\b\b\b\b\b\b\b\b\b\b\b\b\b\b\b\b\b\b\b\b\b\b\b\b\b\b\b\b\b\b\b\b\b\b\b\b\b\b\b\b\b\b\b\b\b\b\b\b\b\b\b\b\b\b\b\b\b\b\b\b\b\b\b\b\b\b\b\b\b\b\b\b\b\b\b\b\b\b\b\b\b\b\b\b\b\b\b\b\b\b\b\b\b\b\b\b\b\b\b\b\b\b\b\b\b\b\b\b\b\b\b\b\b\b\b\b\b\b\b\b\b\b\b\b\b\b\b\b\b\b\b\b\b\b\b\b\b\b\b\b\b\b\b\b\b\b\b\b\b\b\b\b\b\b\b\b\b\b\b\b\b\b\b\b\b\b\b\b\b\b\b\b\b\b\b\b\b\b\b\b\b\b\b\b\b\b\b\b\b\b\b\b\b\b\b\b\b\b\b\b\b\b\b\b\b\b\b\b\b\b\b\b\b\b\b\b\b\b\b\b\b\b\b\b\b\b\b\b\b\b\b\b\b\b\b\b\b\b\b\b\b\b\b\b\b\b\b\b\b\b\b\b\b\b\b\b\b\b\b\b\b\b\b\b\b\b\b\b\b\b\b\b\b\b\b\b\b\b\b\b\b\b\b\b\b\b\b\b\b\b\b\b\b\b\b\b\b\b\b\b\b\b\b\b\b\b\b\b\b\b\b\b\b\b\b\b\b\b\b\b\b\b\b\b\b\b\n",
      "[1.6676874983878363, 0.45223120990253629, 0.53390319006783626, 0.30318534161363331, 0.096625819447494682, 0.011395708639957732, 0.20752546546005068, 0.031410385765844866, 0.85744048300243558, 0.86726189794994535, 0.9181547718388694, 0.97142858448482694, 0.99910714370863773, 0.93690476247242516, 0.49315476772331057]\n",
      "['loss', 'dense_3_loss', 'dense_4_loss', 'dense_5_loss', 'dense_6_loss', 'dense_7_loss', 'dense_8_loss', 'dense_9_loss', 'dense_3_acc', 'dense_4_acc', 'dense_5_acc', 'dense_6_acc', 'dense_7_acc', 'dense_8_acc', 'dense_9_acc']\n",
      "3360/3360 [==============================] - 26s     \b\b\b\b\b\b\b\b\b\b\b\b\b\b\b\b\b\b\b\b\b\b\b\b\b\b\b\b\b\b\b\b\b\b\b\b\b\b\b\b\b\b\b\b\b\b\b\b\b\b\b\b\b\b\b\b\b\b\b\b\b\b\b\b\b\b\b\b\b\b\b\b\b\b\b\b\b\b\b\b\b\b\b\b\b\b\b\b\b\b\b\b\b\b\b\b\b\b\b\b\b\b\b\b\b\b\b\b\b\b\b\b\b\b\b\b\b\b\b\b\b\b\b\b\b\b\b\b\b\b\b\b\b\b\b\b\b\b\b\b\b\b\b\b\b\b\b\b\b\b\b\b\b\b\b\b\b\b\b\b\b\b\b\b\b\b\b\b\b\b\b\b\b\b\b\b\b\b\b\b\b\b\b\b\b\b\b\b\b\b\b\b\b\b\b\b\b\b\b\b\b\b\b\b\b\b\b\b\b\b\b\b\b\b\b\b\b\b\b\b\b\b\b\b\b\b\b\b\b\b\b\b\b\b\b\b\b\b\b\b\b\b\b\b\b\b\b\b\b\b\b\b\b\b\b\b\b\b\b\b\b\b\b\b\b\b\b\b\b\b\b\b\b\b\b\b\b\b\b\b\b\b\b\b\b\b\b\b\b\b\b\b\b\b\b\b\b\b\b\b\b\b\b\b\b\b\b\b\b\b\b\b\b\b\b\b\b\b\b\b\b\b\b\b\b\b\b\b\b\b\b\b\b\b\b\b\b\b\b\b\b\b\b\b\b\b\b\b\b\b\b\b\b\b\b\b\b\b\b\b\b\b\b\b\b\b\b\b\b\b\b\b\b\b\b\b\b\b\b\b\b\b\b\b\b\b\b\b\b\b\b\b\b\b\b\b\b\b\b\b\b\b\b\b\b\b\b\b\b\b\b\b\b\b\b\b\b\b\b\b\b\n",
      "[1.4838272049313499, 0.40296701093514758, 0.47035220904009684, 0.27238080295778455, 0.08784266685446103, 0.0096972167759583096, 0.18783821520351229, 0.026374512662490208, 0.87708333134651184, 0.88035712923322407, 0.92946429479689829, 0.97738097253299894, 0.99910714370863773, 0.94166666127386545, 0.41547619232109617]\n",
      "['loss', 'dense_3_loss', 'dense_4_loss', 'dense_5_loss', 'dense_6_loss', 'dense_7_loss', 'dense_8_loss', 'dense_9_loss', 'dense_3_acc', 'dense_4_acc', 'dense_5_acc', 'dense_6_acc', 'dense_7_acc', 'dense_8_acc', 'dense_9_acc']\n",
      "3360/3360 [==============================] - 41s      \b\b\b\b\b\b\b\b\b\b\b\b\b\b\b\b\b\b\b\b\b\b\b\b\b\b\b\b\b\b\b\b\b\b\b\b\b\b\b\b\b\b\b\b\b\b\b\b\b\b\b\b\b\b\b\b\b\b\b\b\b\b\b\b\b\b\b\b\b\b\b\b\b\b\b\b\b\b\b\b\b\b\b\b\b\b\b\b\b\b\b\b\b\b\b\b\b\b\b\b\b\b\b\b\b\b\b\b\b\b\b\b\b\b\b\b\b\b\b\b\b\b\b\b\b\b\b\b\b\b\b\b\b\b\b\b\b\b\b\b\b\b\b\b\b\b\b\b\b\b\b\b\b\b\b\b\b\b\b\b\b\b\b\b\b\b\b\b\b\b\b\b\b\b\b\b\b\b\b\b\b\b\b\b\b\b\b\b\b\b\b\b\b\b\b\b\b\b\b\b\b\b\b\b\b\b\b\b\b\b\b\b\b\b\b\b\b\b\b\b\b\b\b\b\b\b\b\b\b\b\b\b\b\b\b\b\b\b\b\b\b\b\b\b\b\b\b\b\b\b\b\b\b\b\b\b\b\b\b\b\b\b\b\b\b\b\b\b\b\b\b\b\b\b\b\b\b\b\b\b\b\b\b\b\b\b\b\b\b\b\b\b\b\b\b\b\b\b\b\b\b\b\b\b\b\b\b\b\b\b\b\b\b\b\b\b\b\b\b\b\b\b\b\b\b\b\b\b\b\b\b\b\b\b\b\b\b\b\b\b\b\b\b\b\b\b\b\b\b\b\b\b\b\b\b\b\b\b\b\b\b\b\b\b\b\b\b\b\b\b\b\b\b\b\b\b\b\b\b\b\b\b\b\b\b\b\b\b\b\b\b\b\b\b\b\b\b\b\b\b\b\b\b\b\b\b\b\b\b\b\b\b\b\b\b\b\b\b\b\b\b\b\b\n",
      "[1.4362348743847437, 0.41254818297567819, 0.43733703309581395, 0.26590093863861902, 0.079850624803276288, 0.0080223752323677535, 0.18181879037902468, 0.025378472349118619, 0.87380951784905936, 0.88898808899379911, 0.93392857625370929, 0.97857144758814862, 0.99910714370863773, 0.94821427549634663, 0.43125000170298983]\n",
      "['loss', 'dense_3_loss', 'dense_4_loss', 'dense_5_loss', 'dense_6_loss', 'dense_7_loss', 'dense_8_loss', 'dense_9_loss', 'dense_3_acc', 'dense_4_acc', 'dense_5_acc', 'dense_6_acc', 'dense_7_acc', 'dense_8_acc', 'dense_9_acc']\n",
      "3360/3360 [==============================] - 31s     \b\b\b\b\b\b\b\b\b\b\b\b\b\b\b\b\b\b\b\b\b\b\b\b\b\b\b\b\b\b\b\b\b\b\b\b\b\b\b\b\b\b\b\b\b\b\b\b\b\b\b\b\b\b\b\b\b\b\b\b\b\b\b\b\b\b\b\b\b\b\b\b\b\b\b\b\b\b\b\b\b\b\b\b\b\b\b\b\b\b\b\b\b\b\b\b\b\b\b\b\b\b\b\b\b\b\b\b\b\b\b\b\b\b\b\b\b\b\b\b\b\b\b\b\b\b\b\b\b\b\b\b\b\b\b\b\b\b\b\b\b\b\b\b\b\b\b\b\b\b\b\b\b\b\b\b\b\b\b\b\b\b\b\b\b\b\b\b\b\b\b\b\b\b\b\b\b\b\b\b\b\b\b\b\b\b\b\b\b\b\b\b\b\b\b\b\b\b\b\b\b\b\b\b\b\b\b\b\b\b\b\b\b\b\b\b\b\b\b\b\b\b\b\b\b\b\b\b\b\b\b\b\b\b\b\b\b\b\b\b\b\b\b\b\b\b\b\b\b\b\b\b\b\b\b\b\b\b\b\b\b\b\b\b\b\b\b\b\b\b\b\b\b\b\b\b\b\b\b\b\b\b\b\b\b\b\b\b\b\b\b\b\b\b\b\b\b\b\b\b\b\b\b\b\b\b\b\b\b\b\b\b\b\b\b\b\b\b\b\b\b\b\b\b\b\b\b\b\b\b\b\b\b\b\b\b\b\b\b\b\b\b\b\b\b\b\b\b\b\b\b\b\b\b\b\b\b\b\b\b\b\b\b\b\b\b\b\b\b\b\b\b\b\b\b\b\b\b\b\b\b\b\b\b\b\b\b\b\b\b\b\b\b\b\b\b\b\b\b\b\b\b\b\b\b\b\b\b\b\b\b\b\b\b\b\b\b\b\b\b\b\b\n",
      "[1.3866043034053983, 0.38084697155725389, 0.43394489586353302, 0.25952501807894024, 0.079790752026296791, 0.0075805423363054358, 0.17404794338203611, 0.025434107342291446, 0.88928570917674477, 0.88660713320686702, 0.93184524348803932, 0.97886905925614498, 0.99910714370863773, 0.95029761393864953, 0.49613094755581449]\n",
      "['loss', 'dense_3_loss', 'dense_4_loss', 'dense_5_loss', 'dense_6_loss', 'dense_7_loss', 'dense_8_loss', 'dense_9_loss', 'dense_3_acc', 'dense_4_acc', 'dense_5_acc', 'dense_6_acc', 'dense_7_acc', 'dense_8_acc', 'dense_9_acc']\n"
     ]
    }
   ],
   "source": [
    "from math import floor, ceil\n",
    "batch_size = 32\n",
    "train_path = 'train/train/'\n",
    "test_path = 'test/test/'\n",
    "extra_path = 'extra/extra/'\n",
    "total_batches =int(floor(len(data['left'])/batch_size))\n",
    "extra_batches = int(floor(len(extra['left'])/batch_size))\n",
    "val_batches=int(ceil(0.1*total_batches))\n",
    "train_batches=int(floor(0.9*total_batches))\n",
    "print total_batches,val_batches, train_batches\n",
    "batch = {}\n",
    "# build the model\n",
    "conv_net = large_cnn(6)\n",
    "\n",
    "for epoch in xrange(5):\n",
    "    for batch_itr in range(0, train_batches):\n",
    "        start_index = batch_itr*batch_size\n",
    "        stop_index = (batch_itr+1)*batch_size\n",
    "        for key in data:\n",
    "            batch[key]=data[key][start_index:stop_index]\n",
    "        batch['image']=image_read(batch['names'],train_path)\n",
    "        crop_scale(batch)\n",
    "        batch['label_list']=[]\n",
    "        for itr in range(0,5):\n",
    "            batch['label_list'].append(batch['hot_label'][:,itr,:])\n",
    "        batch['label_list'].append(batch['hot_label'][:,5,1:6])\n",
    "        batch['label_list'].append(np.stack(batch['boxes']))\n",
    "        batch['image'] = np.stack(batch['image'])/255.0-0.5\n",
    "        # Fit the model\n",
    "        conv_net.train_on_batch(batch['image'],batch['label_list'])\n",
    "    #\"\"\"\n",
    "    for batch_itr in range(0, extra_batches):\n",
    "        start_index = batch_itr*batch_size\n",
    "        stop_index = (batch_itr+1)*batch_size\n",
    "        for key in data:\n",
    "            batch[key]=extra[key][start_index:stop_index]\n",
    "        batch['image']=image_read(batch['names'],extra_path)\n",
    "        crop_scale(batch)\n",
    "        batch['label_list']=[]\n",
    "        for itr in range(0,5):\n",
    "            batch['label_list'].append(batch['hot_label'][:,itr,:])\n",
    "        batch['label_list'].append(batch['hot_label'][:,5,1:6])\n",
    "        batch['label_list'].append(np.stack(batch['boxes']))\n",
    "        batch['image'] = np.stack(batch['image'])/255.0-0.5\n",
    "        # Fit the model\n",
    "        conv_net.train_on_batch(batch['image'],batch['label_list'])\n",
    "    #\"\"\"\n",
    "    #validation test\n",
    "    start_index = train_batches*batch_size\n",
    "    stop_index = (total_batches)*batch_size\n",
    "    for key in data:\n",
    "        batch[key]=data[key][start_index:stop_index]\n",
    "    batch['image']=image_read(batch['names'],train_path)\n",
    "    crop_scale(batch)\n",
    "    batch['label_list']=[]\n",
    "    for itr in range(0,5):\n",
    "        batch['label_list'].append(batch['hot_label'][:,itr,:])\n",
    "    batch['label_list'].append(batch['hot_label'][:,5,1:6])\n",
    "    batch['label_list'].append(np.stack(batch['boxes']))\n",
    "    batch['image'] = np.stack(batch['image'])/255.0-0.5\n",
    "    # Fit the model\n",
    "    print conv_net.evaluate(batch['image'],batch['label_list'],batch_size=400)\n",
    "    print conv_net.metrics_names"
   ]
  },
  {
   "cell_type": "code",
   "execution_count": 9,
   "metadata": {
    "collapsed": false,
    "deletable": true,
    "editable": true
   },
   "outputs": [],
   "source": [
    "#Intersection over union\n",
    "def iou(y_true, y_pred):\n",
    "    top_true = y_true[0:5]\n",
    "    bottom_true = y_true[5:10]\n",
    "    left_true = y_true[10:15]\n",
    "    right_true = y_true[15:20]\n",
    "    top_pred = y_pred[0:5]\n",
    "    bottom_pred = y_pred[5:10]\n",
    "    left_pred = y_pred[10:15]\n",
    "    right_pred = y_pred[15:20]\n",
    "    # determine the (x, y)-coordinates of the intersection rectangle\n",
    "    li = np.maximum(left_true, left_pred)\n",
    "    bi = np.minimum(bottom_true, bottom_pred)\n",
    "    ri = np.minimum(right_true, right_pred)\n",
    "    ti = np.maximum(top_true, top_pred)\n",
    "    #print ti[0],bi[0],li[0],ri[0]\n",
    "    # compute the area of intersection rectangle\n",
    "    interArea = np.multiply(np.subtract(ri , li) ,np.subtract(bi , ti))\n",
    "    #print interArea[0]\n",
    "    # compute the area of both the prediction and ground-truth\n",
    "    # rectangles\n",
    "    true_area = np.multiply(np.subtract(bottom_true,top_true),np.subtract(right_true,left_true)) +.00001\n",
    "    pred_area = np.multiply(np.subtract(bottom_pred,top_pred),np.subtract(right_pred,left_pred)) +.00001\n",
    "\n",
    "    # compute the intersection over union by taking the intersection\n",
    "    # area and dividing it by the sum of prediction + ground-truth\n",
    "    # areas - the interesection area\n",
    "    iou = np.divide(interArea,np.subtract(np.add(true_area, pred_area), interArea))\n",
    "\n",
    "    # return the intersection over union value\n",
    "    return iou"
   ]
  },
  {
   "cell_type": "code",
   "execution_count": 10,
   "metadata": {
    "collapsed": false
   },
   "outputs": [
    {
     "name": "stdout",
     "output_type": "stream",
     "text": [
      "0.609062533027\n"
     ]
    }
   ],
   "source": [
    "#Evaluate average IOU\n",
    "predictions = conv_net.predict(batch['image'])\n",
    "total_iou = 0.0\n",
    "total_digits = 0.0\n",
    "for itr in xrange(len(predictions[6])):\n",
    "    seq_iou = iou(predictions[6][itr],batch['boxes'][itr])\n",
    "    #print sum(seq_iou[0:int(batch['unified_label'][itr][5])])\n",
    "    total_iou += sum(seq_iou[0:int(batch['unified_label'][itr][5])])\n",
    "    total_digits += batch['unified_label'][itr][5]\n",
    "print total_iou/total_digits"
   ]
  },
  {
   "cell_type": "code",
   "execution_count": 13,
   "metadata": {
    "collapsed": false
   },
   "outputs": [
    {
     "name": "stdout",
     "output_type": "stream",
     "text": [
      "[ 0.  -0.5 -0.5 -0.5 -0.5  1.  -0.5 -0.5 -0.5 -0.5  0.  -0.5 -0.5 -0.5 -0.5\n",
      "  1.  -0.5 -0.5 -0.5 -0.5]\n",
      "[ 0.03831594 -0.02374752 -0.21549416 -0.48190838 -0.50338906  0.96313268\n",
      "  0.74152046  0.13903628 -0.40093315 -0.49830893  0.00189184  0.25148124\n",
      " -0.00992799 -0.42949593 -0.49895278  0.4509213   0.57285094  0.15666723\n",
      " -0.39620832 -0.49806619]\n"
     ]
    }
   ],
   "source": [
    "print batch['boxes'][0]\n",
    "print predictions[6][0]"
   ]
  },
  {
   "cell_type": "code",
   "execution_count": 8,
   "metadata": {
    "collapsed": true
   },
   "outputs": [],
   "source": [
    "conv_net.save('CNNBBRexpr.h5')"
   ]
  },
  {
   "cell_type": "code",
   "execution_count": null,
   "metadata": {
    "collapsed": false
   },
   "outputs": [],
   "source": [
    "import keras\n",
    "conv_net = keras.models.load_model('CNNBBR.h5')"
   ]
  },
  {
   "cell_type": "code",
   "execution_count": 17,
   "metadata": {
    "collapsed": false
   },
   "outputs": [
    {
     "name": "stdout",
     "output_type": "stream",
     "text": [
      "[ 5.  0.  0.  0.  0.  1.]\n",
      "[ 5.  2.  0.  0.  0.  2.]\n",
      "[ 2.  1.  7.  8.  0.  4.]\n",
      "[ 2.  6.  5.  0.  0.  3.]\n",
      "[ 5.  8.  0.  0.  0.  2.]\n",
      "[ 2.  9.  4.  0.  0.  3.]\n",
      "[ 5.  0.  0.  0.  0.  1.]\n",
      "[ 4.  8.  0.  0.  0.  2.]\n",
      "[ 1.  0.  0.  0.  0.  1.]\n",
      "[ 2.  1.  0.  0.  0.  2.]\n"
     ]
    },
    {
     "data": {
      "image/png": "[encoded data removed]",
      "text/plain": [
       "<matplotlib.figure.Figure at 0x7faeb929d2d0>"
      ]
     },
     "metadata": {},
     "output_type": "display_data"
    },
    {
     "data": {
      "image/png": "[encoded data removed]",
      "text/plain": [
       "<matplotlib.figure.Figure at 0x7faea1c14810>"
      ]
     },
     "metadata": {},
     "output_type": "display_data"
    },
    {
     "data": {
      "image/png": "[encoded data removed]",
      "text/plain": [
       "<matplotlib.figure.Figure at 0x7faea55f1ed0>"
      ]
     },
     "metadata": {},
     "output_type": "display_data"
    },
    {
     "data": {
      "image/png": "[encoded data removed]",
      "text/plain": [
       "<matplotlib.figure.Figure at 0x7faea561c450>"
      ]
     },
     "metadata": {},
     "output_type": "display_data"
    },
    {
     "data": {
      "image/png": "[encoded data removed]",
      "text/plain": [
       "<matplotlib.figure.Figure at 0x7faea5548fd0>"
      ]
     },
     "metadata": {},
     "output_type": "display_data"
    },
    {
     "data": {
      "image/png": "[encoded data removed]",
      "text/plain": [
       "<matplotlib.figure.Figure at 0x7faea5717f90>"
      ]
     },
     "metadata": {},
     "output_type": "display_data"
    },
    {
     "data": {
      "image/png": "[encoded data removed]",
      "text/plain": [
       "<matplotlib.figure.Figure at 0x7faea57b1d90>"
      ]
     },
     "metadata": {},
     "output_type": "display_data"
    },
    {
     "data": {
      "image/png": "[encoded data removed]",
      "text/plain": [
       "<matplotlib.figure.Figure at 0x7faeb92d63d0>"
      ]
     },
     "metadata": {},
     "output_type": "display_data"
    },
    {
     "data": {
      "image/png": "[encoded data removed]",
      "text/plain": [
       "<matplotlib.figure.Figure at 0x7faeb924f3d0>"
      ]
     },
     "metadata": {},
     "output_type": "display_data"
    },
    {
     "data": {
      "image/png": "[encoded data removed]",
      "text/plain": [
       "<matplotlib.figure.Figure at 0x7faea15cdb10>"
      ]
     },
     "metadata": {},
     "output_type": "display_data"
    }
   ],
   "source": [
    "#batch['image'] = np.stack(batch['image'])/255.0-1.0\n",
    "for itr in xrange(10):\n",
    "    plt.figure()\n",
    "    plt.imshow(batch['image'][itr]+0.5)\n",
    "    print batch['label'][itr]"
   ]
  },
  {
   "cell_type": "code",
   "execution_count": 25,
   "metadata": {
    "collapsed": false,
    "scrolled": true
   },
   "outputs": [
    {
     "name": "stdout",
     "output_type": "stream",
     "text": [
      "[  4.21054935   3.11393213  -3.57852054 -13.84750462 -26.53209496\n",
      "  50.9802475   50.49971008  34.48950958   8.28353786 -26.61719894\n",
      "   0.05615886  18.05076599  18.5125103    2.94274473 -26.63378906\n",
      "  18.10307503  33.55742645  31.4479847    9.88435745 -26.61511803]\n",
      "[[  9.96178150e-01   3.72205139e-03   1.45072329e-06 ...,   3.29375325e-06\n",
      "    6.37673975e-06   4.33592049e-06]\n",
      " [  9.99999523e-01   6.76983747e-11   4.45181826e-07 ...,   3.46140130e-12\n",
      "    5.00158179e-11   3.37344265e-16]\n",
      " [  1.79282692e-03   1.32141588e-02   9.05943196e-03 ...,   2.89934292e-03\n",
      "    4.64773184e-04   2.07172311e-03]\n",
      " ..., \n",
      " [  9.99704540e-01   2.94949103e-04   2.21795773e-08 ...,   7.86961074e-09\n",
      "    7.35832444e-08   1.41605796e-07]\n",
      " [  9.99992847e-01   6.99450538e-06   6.34207964e-11 ...,   2.34643294e-11\n",
      "    8.80522766e-10   4.58886928e-09]\n",
      " [  2.96764920e-05   9.57020529e-06   1.14361692e-05 ...,   1.25761644e-03\n",
      "    2.70471815e-03   1.01658470e-05]]\n"
     ]
    }
   ],
   "source": [
    "print predictions[6][2]*54\n",
    "print predictions[0:5][2]"
   ]
  },
  {
   "cell_type": "code",
   "execution_count": 35,
   "metadata": {
    "collapsed": false
   },
   "outputs": [
    {
     "name": "stdout",
     "output_type": "stream",
     "text": [
      "[[  2.   2.   0.   0.   0.]\n",
      " [  1.  10.   0.   0.   0.]\n",
      " [  4.   3.   0.   0.   0.]\n",
      " ..., \n",
      " [  1.   5.   0.   0.   0.]\n",
      " [  5.   2.   0.   0.   0.]\n",
      " [  4.   4.   0.   0.   0.]]\n"
     ]
    }
   ],
   "source": [
    "print np.stack(test_data['unified_label'])[:,0:5]"
   ]
  },
  {
   "cell_type": "code",
   "execution_count": null,
   "metadata": {
    "collapsed": false,
    "deletable": true,
    "editable": true
   },
   "outputs": [],
   "source": [
    "# Final evaluation of the model SVHN\n",
    "test_data['image']=image_read(test_data['names'],test_path)\n",
    "crop_scale(test_data)\n",
    "test_data['image'] = np.stack(test_data['image'])/255.0-0.5\n",
    "predictions = conv_net.predict(test_data['image'],batch_size=32, verbose=1)\n",
    "combined_pred = np.array(predictions[0:5]).argmax(axis=2).T\n",
    "equiv = combined_pred==np.stack(test_data['unified_label'])[:,0:5]\n",
    "print 'digit acc' , float(np.sum(equiv))/(len(test_data['unified_label'])*5)\n",
    "seq_acc = np.sum((equiv.sum(axis=1)==5))/len(test_data['unified_label'])\n",
    "print 'sequence acc' , seq_acc"
   ]
  },
  {
   "cell_type": "code",
   "execution_count": null,
   "metadata": {
    "collapsed": true,
    "deletable": true,
    "editable": true
   },
   "outputs": [],
   "source": []
  },
  {
   "cell_type": "markdown",
   "metadata": {
    "deletable": true,
    "editable": true
   },
   "source": [
    "### Question 4\n",
    "_Describe how you set up the training and testing data for your model. How does the model perform on a realistic dataset?_"
   ]
  },
  {
   "cell_type": "markdown",
   "metadata": {
    "deletable": true,
    "editable": true
   },
   "source": [
    "## IOU\n",
    "Adrian Rosebrock\n",
    "http://www.pyimagesearch.com/2016/11/07/intersection-over-union-iou-for-object-detection/\n",
    "\n",
    "Pixel coordinate refrences may be screwy if errors double check here!"
   ]
  },
  {
   "cell_type": "markdown",
   "metadata": {
    "deletable": true,
    "editable": true
   },
   "source": [
    "**Answer:**"
   ]
  },
  {
   "cell_type": "markdown",
   "metadata": {
    "deletable": true,
    "editable": true
   },
   "source": [
    "### Question 5\n",
    "_What changes did you have to make, if any, to achieve \"good\" results? Were there any options you explored that made the results worse?_"
   ]
  },
  {
   "cell_type": "markdown",
   "metadata": {
    "deletable": true,
    "editable": true
   },
   "source": [
    "**Answer:**"
   ]
  },
  {
   "cell_type": "markdown",
   "metadata": {
    "deletable": true,
    "editable": true
   },
   "source": [
    "### Question 6\n",
    "_What were your initial and final results with testing on a realistic dataset? Do you believe your model is doing a good enough job at classifying numbers correctly?_"
   ]
  },
  {
   "cell_type": "markdown",
   "metadata": {
    "deletable": true,
    "editable": true
   },
   "source": [
    "**Answer:**"
   ]
  },
  {
   "cell_type": "markdown",
   "metadata": {
    "deletable": true,
    "editable": true
   },
   "source": [
    "----\n",
    "## Step 3: Test a Model on Newly-Captured Images\n",
    "\n",
    "Take several pictures of numbers that you find around you (at least five), and run them through your classifier on your computer to produce example results. Alternatively (optionally), you can try using OpenCV / SimpleCV / Pygame to capture live images from a webcam and run those through your classifier."
   ]
  },
  {
   "cell_type": "markdown",
   "metadata": {
    "deletable": true,
    "editable": true
   },
   "source": [
    "### Implementation\n",
    "Use the code cell (or multiple code cells, if necessary) to implement the first step of your project. Once you have completed your implementation and are satisfied with the results, be sure to thoroughly answer the questions that follow."
   ]
  },
  {
   "cell_type": "code",
   "execution_count": null,
   "metadata": {
    "collapsed": true,
    "deletable": true,
    "editable": true
   },
   "outputs": [],
   "source": [
    "\n",
    "\n",
    "### Your code implementation goes here.\n",
    "### Feel free to use as many code cells as needed.\n",
    "\n"
   ]
  },
  {
   "cell_type": "markdown",
   "metadata": {
    "deletable": true,
    "editable": true
   },
   "source": [
    "### Question 7\n",
    "_Choose five candidate images of numbers you took from around you and provide them in the report. Are there any particular qualities of the image(s) that might make classification difficult?_"
   ]
  },
  {
   "cell_type": "markdown",
   "metadata": {
    "deletable": true,
    "editable": true
   },
   "source": [
    "**Answer:**"
   ]
  },
  {
   "cell_type": "markdown",
   "metadata": {
    "deletable": true,
    "editable": true
   },
   "source": [
    "### Question 8\n",
    "_Is your model able to perform equally well on captured pictures or a live camera stream when compared to testing on the realistic dataset?_"
   ]
  },
  {
   "cell_type": "markdown",
   "metadata": {
    "deletable": true,
    "editable": true
   },
   "source": [
    "**Answer:**"
   ]
  },
  {
   "cell_type": "markdown",
   "metadata": {
    "deletable": true,
    "editable": true
   },
   "source": [
    "### Optional: Question 9\n",
    "_If necessary, provide documentation for how an interface was built for your model to load and classify newly-acquired images._"
   ]
  },
  {
   "cell_type": "markdown",
   "metadata": {
    "deletable": true,
    "editable": true
   },
   "source": [
    "**Answer:** Leave blank if you did not complete this part."
   ]
  },
  {
   "cell_type": "markdown",
   "metadata": {
    "deletable": true,
    "editable": true
   },
   "source": [
    "----\n",
    "### Step 4: Explore an Improvement for a Model\n",
    "\n",
    "There are many things you can do once you have the basic classifier in place. One example would be to also localize where the numbers are on the image. The SVHN dataset provides bounding boxes that you can tune to train a localizer. Train a regression loss to the coordinates of the bounding box, and then test it. "
   ]
  },
  {
   "cell_type": "code",
   "execution_count": null,
   "metadata": {
    "collapsed": true
   },
   "outputs": [],
   "source": []
  },
  {
   "cell_type": "markdown",
   "metadata": {
    "deletable": true,
    "editable": true
   },
   "source": [
    "### Implementation\n",
    "Use the code cell (or multiple code cells, if necessary) to implement the first step of your project. Once you have completed your implementation and are satisfied with the results, be sure to thoroughly answer the questions that follow."
   ]
  },
  {
   "cell_type": "code",
   "execution_count": null,
   "metadata": {
    "collapsed": true,
    "deletable": true,
    "editable": true
   },
   "outputs": [],
   "source": [
    "\n",
    "\n",
    "### Your code implementation goes here.\n",
    "### Feel free to use as many code cells as needed.\n",
    "\n"
   ]
  },
  {
   "cell_type": "markdown",
   "metadata": {
    "deletable": true,
    "editable": true
   },
   "source": [
    "### Question 10\n",
    "_How well does your model localize numbers on the testing set from the realistic dataset? Do your classification results change at all with localization included?_"
   ]
  },
  {
   "cell_type": "markdown",
   "metadata": {
    "deletable": true,
    "editable": true
   },
   "source": [
    "**Answer:**"
   ]
  },
  {
   "cell_type": "markdown",
   "metadata": {
    "deletable": true,
    "editable": true
   },
   "source": [
    "### Question 11\n",
    "_Test the localization function on the images you captured in **Step 3**. Does the model accurately calculate a bounding box for the numbers in the images you found? If you did not use a graphical interface, you may need to investigate the bounding boxes by hand._ Provide an example of the localization created on a captured image."
   ]
  },
  {
   "cell_type": "markdown",
   "metadata": {
    "deletable": true,
    "editable": true
   },
   "source": [
    "**Answer:**"
   ]
  },
  {
   "cell_type": "markdown",
   "metadata": {
    "deletable": true,
    "editable": true
   },
   "source": [
    "----\n",
    "## Optional Step 5: Build an Application or Program for a Model\n",
    "Take your project one step further. If you're interested, look to build an Android application or even a more robust Python program that can interface with input images and display the classified numbers and even the bounding boxes. You can for example try to build an augmented reality app by overlaying your answer on the image like the [Word Lens](https://en.wikipedia.org/wiki/Word_Lens) app does.\n",
    "\n",
    "Loading a TensorFlow model into a camera app on Android is demonstrated in the [TensorFlow Android demo app](https://github.com/tensorflow/tensorflow/tree/master/tensorflow/examples/android), which you can simply modify.\n",
    "\n",
    "If you decide to explore this optional route, be sure to document your interface and implementation, along with significant results you find. You can see the additional rubric items that you could be evaluated on by [following this link](https://review.udacity.com/#!/rubrics/413/view)."
   ]
  },
  {
   "cell_type": "markdown",
   "metadata": {
    "deletable": true,
    "editable": true
   },
   "source": [
    "### Optional Implementation\n",
    "Use the code cell (or multiple code cells, if necessary) to implement the first step of your project. Once you have completed your implementation and are satisfied with the results, be sure to thoroughly answer the questions that follow."
   ]
  },
  {
   "cell_type": "code",
   "execution_count": null,
   "metadata": {
    "collapsed": false,
    "scrolled": false
   },
   "outputs": [],
   "source": [
    "import matplotlib.mlab as mlab\n",
    "list_label = data['label'].tolist()\n",
    "digits = []\n",
    "digits = [[] for x in xrange(6)]\n",
    "for arr in list_label:\n",
    "    for digit in xrange(6):\n",
    "        digits[digit].append(arr[digit])\n",
    "\n",
    "class_weight = {}\n",
    "itr = 0\n",
    "for digit in digits:\n",
    "\n",
    "    # the histogram of the data\n",
    "    n, bins, patches = plt.hist(digit, bins=11, normed=1, range=(-.5,10.5),facecolor='green')\n",
    "    class_weight[dense_11n)\n",
    "    plt.show()\n",
    "    itr++\n",
    "print probs\n",
    "#plt.xlabel('Smarts')\n",
    "#plt.ylabel('Probability')\n",
    "#plt.title(r'$\\mathrm{Histogram\\ of\\ IQ:}\\ \\mu=100,\\ \\sigma=15$')\n",
    "#plt.axis([40, 160, 0, 0.03])\n",
    "#plt.grid(True)\n",
    "\n",
    "\n",
    "#plt.scatter(range(0,len(data['label'])), length_list)\n",
    "#plt.show()"
   ]
  },
  {
   "cell_type": "code",
   "execution_count": null,
   "metadata": {
    "collapsed": true,
    "deletable": true,
    "editable": true
   },
   "outputs": [],
   "source": [
    "\n",
    "\n",
    "### Your optional code implementation goes here.\n",
    "### Feel free to use as many code cells as needed.\n",
    "\n"
   ]
  },
  {
   "cell_type": "markdown",
   "metadata": {
    "deletable": true,
    "editable": true
   },
   "source": [
    "### Documentation\n",
    "Provide additional documentation sufficient for detailing the implementation of the Android application or Python program for visualizing the classification of numbers in images. It should be clear how the program or application works. Demonstrations should be provided. "
   ]
  },
  {
   "cell_type": "markdown",
   "metadata": {
    "deletable": true,
    "editable": true
   },
   "source": [
    "_Write your documentation here._"
   ]
  },
  {
   "cell_type": "markdown",
   "metadata": {
    "deletable": true,
    "editable": true
   },
   "source": [
    "> **Note**: Once you have completed all of the code implementations and successfully answered each question above, you may finalize your work by exporting the iPython Notebook as an HTML document. You can do this by using the menu above and navigating to  \n",
    "**File -> Download as -> HTML (.html)**. Include the finished document along with this notebook as your submission."
   ]
  }
 ],
 "metadata": {
  "kernelspec": {
   "display_name": "Python 2",
   "language": "python",
   "name": "python2"
  },
  "language_info": {
   "codemirror_mode": {
    "name": "ipython",
    "version": 2
   },
   "file_extension": ".py",
   "mimetype": "text/x-python",
   "name": "python",
   "nbconvert_exporter": "python",
   "pygments_lexer": "ipython2",
   "version": "2.7.12"
  }
 },
 "nbformat": 4,
 "nbformat_minor": 0
}
