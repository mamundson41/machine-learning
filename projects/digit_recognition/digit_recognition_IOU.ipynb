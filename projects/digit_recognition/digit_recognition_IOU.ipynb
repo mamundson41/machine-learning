{
 "cells": [
  {
   "cell_type": "markdown",
   "metadata": {
    "deletable": true,
    "editable": true
   },
   "source": [
    "----\n",
    "## Step 2: Train a Model on a Realistic Dataset\n",
    "Once you have settled on a good architecture, you can train your model on real data. In particular, the [Street View House Numbers (SVHN)](http://ufldl.stanford.edu/housenumbers/) dataset is a good large-scale dataset collected from house numbers in Google Street View. Training on this more challenging dataset, where the digits are not neatly lined-up and have various skews, fonts and colors, likely means you have to do some hyperparameter exploration to perform well."
   ]
  },
  {
   "cell_type": "code",
   "execution_count": 1,
   "metadata": {
    "collapsed": false,
    "deletable": true,
    "editable": true
   },
   "outputs": [
    {
     "name": "stderr",
     "output_type": "stream",
     "text": [
      "Using TensorFlow backend.\n"
     ]
    }
   ],
   "source": [
    "import numpy as np\n",
    "import h5py\n",
    "import matplotlib.pyplot as plt\n",
    "%matplotlib inline\n",
    "from scipy import misc\n",
    "from keras.utils import np_utils\n",
    "from keras.models import Model\n",
    "from keras.layers import Dense, Input, merge, Convolution2D, MaxPooling2D\n",
    "from keras.layers import Dropout, Flatten\n",
    "#Code structure to import .mat file\n",
    "def mat_open(f):\n",
    "    data= {}\n",
    "    data['height'] = []\n",
    "    data['label'] = []\n",
    "    data['left'] = []\n",
    "    data['top'] = []\n",
    "    data['width'] = []\n",
    "    data['names'] = []\n",
    "    def get_bbox(name, obj):\n",
    "        vals = []\n",
    "        if obj.shape[0] == 1:\n",
    "            vals.append(obj[0][0])\n",
    "        else:\n",
    "            for k in range(obj.shape[0]):\n",
    "                vals.append(f[obj[k][0]][0][0])\n",
    "        data[name].append(vals)\n",
    "\n",
    "\n",
    "    for item in f['digitStruct/bbox']:\n",
    "        f[item[0]].visititems(get_bbox)\n",
    "    def get_name(index, hdf5_data):\n",
    "        name = hdf5_data['/digitStruct/name']\n",
    "        return ''.join([chr(v[0]) for v in hdf5_data[name[index][0]].value])\n",
    "    for index in range(0,f['/digitStruct/name'].shape[0]):\n",
    "        data['names'].append(get_name(index,f))\n",
    "    #Make labels 6 digits long\n",
    "    for label in data['label']:\n",
    "        num_dig = len(label)\n",
    "        if len(label)<5:\n",
    "            label+=[0 for item in range(0,5-len(label))]\n",
    "        label+=[num_dig]\n",
    "    #find right and bottom of bounding box\n",
    "    for key in data:\n",
    "        data[key]=np.asarray([np.asarray(obj) for obj in data[key]])\n",
    "    data['right'] =data['left']+data['width']\n",
    "    data['bottom'] = data['top']+data['height']\n",
    "    \n",
    "    data['unified_label']=np.zeros((len(data['label']),data['label'][0].shape[0]))\n",
    "\n",
    "    for i in range(0,len(data['label'])):\n",
    "        data['unified_label'][i,:] = data['label'][i][0:6]\n",
    "    return data"
   ]
  },
  {
   "cell_type": "code",
   "execution_count": 2,
   "metadata": {
    "collapsed": false
   },
   "outputs": [],
   "source": [
    "train_file = h5py.File('train/train/digitStruct.mat')\n",
    "data=mat_open(train_file)\n",
    "test_file = h5py.File('test/test/digitStruct.mat')\n",
    "test_data=mat_open(test_file)"
   ]
  },
  {
   "cell_type": "code",
   "execution_count": 3,
   "metadata": {
    "collapsed": true
   },
   "outputs": [],
   "source": [
    "import cPickle as pickle\n",
    "pickle.dump( data, open( \"data.p\", \"wb\" ) )\n",
    "pickle.dump( test_data, open( \"test_data.p\", \"wb\" ) )"
   ]
  },
  {
   "cell_type": "code",
   "execution_count": 1,
   "metadata": {
    "collapsed": false
   },
   "outputs": [
    {
     "name": "stderr",
     "output_type": "stream",
     "text": [
      "Using TensorFlow backend.\n"
     ]
    }
   ],
   "source": [
    "import numpy as np\n",
    "import h5py\n",
    "import matplotlib.pyplot as plt\n",
    "%matplotlib inline\n",
    "from scipy import misc\n",
    "from keras.utils import np_utils\n",
    "from keras.models import Model\n",
    "from keras.layers import Dense, Input, merge, Convolution2D, MaxPooling2D\n",
    "from keras.layers import Dropout, Flatten\n",
    "import cPickle as pickle\n",
    "data = pickle.load(open('data.p', 'rb'))\n",
    "test_data = pickle.load(open('test_data.p', 'rb'))"
   ]
  },
  {
   "cell_type": "code",
   "execution_count": 2,
   "metadata": {
    "collapsed": true,
    "deletable": true,
    "editable": true
   },
   "outputs": [],
   "source": [
    "#Read image data into numpy array\n",
    "def image_read(name_data, path):\n",
    "    image_list = []\n",
    "    for image_name in name_data:\n",
    "        image_list.append(misc.imread(path+image_name))\n",
    "    return np.asarray(image_list)"
   ]
  },
  {
   "cell_type": "code",
   "execution_count": 3,
   "metadata": {
    "collapsed": false
   },
   "outputs": [],
   "source": [
    "#Shrinks image down to 54x54 based on bbox.  Reformats charecter bboxes to be ratio of new bbox.\n",
    "def crop_scale(data):\n",
    "    data['boxes']= [None]*len(data['image'])\n",
    "    for index in range(0,len(data['image'])):\n",
    "        top=int(max(data['top'][index].min(),0))\n",
    "        bottom = int(data['bottom'][index].max())\n",
    "        left = int(max(data['left'][index].min(),0))\n",
    "        right = int(data['right'][index].max())\n",
    "        width = right - left\n",
    "        height = bottom - top\n",
    "        data['image'][index] = data['image'][index][top:bottom,left:right,:]\n",
    "        data['image'][index] = misc.imresize(data['image'][index],(54,54),interp='bicubic')\n",
    "        null = np.full((5-len(data['top'][index])),-.5)\n",
    "        data['boxes'][index] = np.concatenate((np.concatenate((np.divide(np.subtract(data['top'][index],top),height),null)),\n",
    "        np.concatenate((np.divide(np.subtract(data['bottom'][index],top),height),null)),\n",
    "        np.concatenate((np.divide(np.subtract(data['left'][index],left),width),null)),\n",
    "        np.concatenate((np.divide(np.subtract(data['right'][index],left),width),null))))"
   ]
  },
  {
   "cell_type": "markdown",
   "metadata": {
    "deletable": true,
    "editable": true
   },
   "source": [
    "## One hot"
   ]
  },
  {
   "cell_type": "code",
   "execution_count": 8,
   "metadata": {
    "collapsed": false
   },
   "outputs": [
    {
     "name": "stdout",
     "output_type": "stream",
     "text": [
      "4110\n",
      "(6,)\n"
     ]
    }
   ],
   "source": [
    "print np.argmax(data['unified_label'][:,5])\n",
    "data['unified_label'][29929,5]=5.0\n",
    "#data['unified_label'][29929]=data['unified_label'][29929,0:5]\n",
    "print data['unified_label'][29929].shape"
   ]
  },
  {
   "cell_type": "code",
   "execution_count": 5,
   "metadata": {
    "collapsed": false,
    "deletable": true,
    "editable": true,
    "scrolled": false
   },
   "outputs": [
    {
     "name": "stdout",
     "output_type": "stream",
     "text": [
      "[[ 0.  0.  1.  0.  0.  0.  0.  0.  0.  0.  0.]\n",
      " [ 0.  0.  0.  0.  0.  1.  0.  0.  0.  0.  0.]\n",
      " [ 1.  0.  0.  0.  0.  0.  0.  0.  0.  0.  0.]\n",
      " [ 1.  0.  0.  0.  0.  0.  0.  0.  0.  0.  0.]\n",
      " [ 1.  0.  0.  0.  0.  0.  0.  0.  0.  0.  0.]\n",
      " [ 0.  0.  1.  0.  0.  0.  0.  0.  0.  0.  0.]] [ 2.  5.  0.  0.  0.  2.]\n"
     ]
    }
   ],
   "source": [
    "num_out = 6\n",
    "data['hot_label'] = np.zeros((data['unified_label'].shape[0],num_out,11))\n",
    "test_data['hot_label'] = np.zeros((test_data['unified_label'].shape[0],num_out,11))\n",
    "for digit in range(0,num_out):\n",
    "    #print data['unified_label'].shape\n",
    "    data['hot_label'][:,digit,:] = np_utils.to_categorical(data['unified_label'][:,digit],11)\n",
    "    test_data['hot_label'][:,digit,:] = np_utils.to_categorical(test_data['unified_label'][:,digit],11)\n",
    "print data['hot_label'][2],data['label'][2]"
   ]
  },
  {
   "cell_type": "code",
   "execution_count": 26,
   "metadata": {
    "collapsed": false,
    "deletable": true,
    "editable": true
   },
   "outputs": [],
   "source": [
    "from keras import backend as K #import mean_squared_error, categorical_cross_entropy\n",
    "def custom_loss(y_true, y_pred):\n",
    "    dig_loss = 0.0\n",
    "    for itr in xrange(6):\n",
    "        dig_loss += K.categorical_crossentropy(y_pred[itr],y_true[itr])\n",
    "    box_loss = K.mean(K.square(y_pred[6] - y_true[6]), axis=-1)\n",
    "    return dig_loss"
   ]
  },
  {
   "cell_type": "code",
   "execution_count": 38,
   "metadata": {
    "collapsed": true
   },
   "outputs": [],
   "source": [
    "loss_list = ['categorical_crossentropy','categorical_crossentropy','categorical_crossentropy','categorical_crossentropy',\n",
    "            'categorical_crossentropy', 'categorical_crossentropy', 'mean_squared_error']\n",
    "metric_list = ['accuracy']*7"
   ]
  },
  {
   "cell_type": "code",
   "execution_count": 41,
   "metadata": {
    "collapsed": false,
    "deletable": true,
    "editable": true
   },
   "outputs": [],
   "source": [
    "from keras.layers.normalization import BatchNormalization\n",
    "def large_cnn(num_outs):\n",
    "    input_img=Input(shape=(54,54,3))\n",
    "    con1 = Convolution2D(16, 9, 9, border_mode='valid', activation='relu')(input_img)\n",
    "    pool1 = MaxPooling2D(pool_size=(2, 2))(con1)\n",
    "    bnorm1 = BatchNormalization()(pool1)\n",
    "    con2 = Convolution2D(32, 5, 5, border_mode='valid', activation='relu')(bnorm1)\n",
    "    pool2 = MaxPooling2D(pool_size=(2, 2))(con2)\n",
    "    bnorm2 = BatchNormalization()(pool2)\n",
    "    drop1 = Dropout(0.4)(bnorm2)\n",
    "    con3 = Convolution2D(64, 3, 3, border_mode='valid', activation='relu')(drop1)\n",
    "    bnorm3 = BatchNormalization()(con3)\n",
    "    flat = Flatten()(bnorm3)\n",
    "    den1 = Dense(128, activation='relu')(flat)\n",
    "    den2 = Dense(128, activation='relu')(den1)\n",
    "    drop2 = Dropout(0.4)(den2)\n",
    "    outputs = []\n",
    "    for itr in range(0,num_outs-1):\n",
    "        outputs.append(Dense(11, activation='softmax')(drop2))\n",
    "    outputs.append(Dense(5, activation='softmax')(drop2))\n",
    "    outputs.append(Dense(20)(drop2))\n",
    "    model = Model(input=input_img, output=outputs)\n",
    "    model.compile(loss=loss_list, optimizer='adam', metrics=metric_list)\n",
    "    return model"
   ]
  },
  {
   "cell_type": "code",
   "execution_count": 42,
   "metadata": {
    "collapsed": false,
    "scrolled": true
   },
   "outputs": [
    {
     "name": "stdout",
     "output_type": "stream",
     "text": [
      "835 84 751\n"
     ]
    },
    {
     "ename": "ValueError",
     "evalue": "negative dimensions are not allowed",
     "output_type": "error",
     "traceback": [
      "\u001b[0;31m---------------------------------------------------------------------------\u001b[0m",
      "\u001b[0;31mValueError\u001b[0m                                Traceback (most recent call last)",
      "\u001b[0;32m<ipython-input-42-b2d252dcca85>\u001b[0m in \u001b[0;36m<module>\u001b[0;34m()\u001b[0m\n\u001b[1;32m     18\u001b[0m             \u001b[0mbatch\u001b[0m\u001b[0;34m[\u001b[0m\u001b[0mkey\u001b[0m\u001b[0;34m]\u001b[0m\u001b[0;34m=\u001b[0m\u001b[0mdata\u001b[0m\u001b[0;34m[\u001b[0m\u001b[0mkey\u001b[0m\u001b[0;34m]\u001b[0m\u001b[0;34m[\u001b[0m\u001b[0mstart_index\u001b[0m\u001b[0;34m:\u001b[0m\u001b[0mstop_index\u001b[0m\u001b[0;34m]\u001b[0m\u001b[0;34m\u001b[0m\u001b[0m\n\u001b[1;32m     19\u001b[0m         \u001b[0mbatch\u001b[0m\u001b[0;34m[\u001b[0m\u001b[0;34m'image'\u001b[0m\u001b[0;34m]\u001b[0m\u001b[0;34m=\u001b[0m\u001b[0mimage_read\u001b[0m\u001b[0;34m(\u001b[0m\u001b[0mbatch\u001b[0m\u001b[0;34m[\u001b[0m\u001b[0;34m'names'\u001b[0m\u001b[0;34m]\u001b[0m\u001b[0;34m,\u001b[0m\u001b[0mtrain_path\u001b[0m\u001b[0;34m)\u001b[0m\u001b[0;34m\u001b[0m\u001b[0m\n\u001b[0;32m---> 20\u001b[0;31m         \u001b[0mcrop_scale\u001b[0m\u001b[0;34m(\u001b[0m\u001b[0mbatch\u001b[0m\u001b[0;34m)\u001b[0m\u001b[0;34m\u001b[0m\u001b[0m\n\u001b[0m\u001b[1;32m     21\u001b[0m         \u001b[0mbatch\u001b[0m\u001b[0;34m[\u001b[0m\u001b[0;34m'label_list'\u001b[0m\u001b[0;34m]\u001b[0m\u001b[0;34m=\u001b[0m\u001b[0;34m[\u001b[0m\u001b[0;34m]\u001b[0m\u001b[0;34m\u001b[0m\u001b[0m\n\u001b[1;32m     22\u001b[0m         \u001b[0;32mfor\u001b[0m \u001b[0mitr\u001b[0m \u001b[0;32min\u001b[0m \u001b[0mrange\u001b[0m\u001b[0;34m(\u001b[0m\u001b[0;36m0\u001b[0m\u001b[0;34m,\u001b[0m\u001b[0;36m5\u001b[0m\u001b[0;34m)\u001b[0m\u001b[0;34m:\u001b[0m\u001b[0;34m\u001b[0m\u001b[0m\n",
      "\u001b[0;32m<ipython-input-3-0914643d1549>\u001b[0m in \u001b[0;36mcrop_scale\u001b[0;34m(data)\u001b[0m\n\u001b[1;32m     11\u001b[0m         \u001b[0mdata\u001b[0m\u001b[0;34m[\u001b[0m\u001b[0;34m'image'\u001b[0m\u001b[0;34m]\u001b[0m\u001b[0;34m[\u001b[0m\u001b[0mindex\u001b[0m\u001b[0;34m]\u001b[0m \u001b[0;34m=\u001b[0m \u001b[0mdata\u001b[0m\u001b[0;34m[\u001b[0m\u001b[0;34m'image'\u001b[0m\u001b[0;34m]\u001b[0m\u001b[0;34m[\u001b[0m\u001b[0mindex\u001b[0m\u001b[0;34m]\u001b[0m\u001b[0;34m[\u001b[0m\u001b[0mtop\u001b[0m\u001b[0;34m:\u001b[0m\u001b[0mbottom\u001b[0m\u001b[0;34m,\u001b[0m\u001b[0mleft\u001b[0m\u001b[0;34m:\u001b[0m\u001b[0mright\u001b[0m\u001b[0;34m,\u001b[0m\u001b[0;34m:\u001b[0m\u001b[0;34m]\u001b[0m\u001b[0;34m\u001b[0m\u001b[0m\n\u001b[1;32m     12\u001b[0m         \u001b[0mdata\u001b[0m\u001b[0;34m[\u001b[0m\u001b[0;34m'image'\u001b[0m\u001b[0;34m]\u001b[0m\u001b[0;34m[\u001b[0m\u001b[0mindex\u001b[0m\u001b[0;34m]\u001b[0m \u001b[0;34m=\u001b[0m \u001b[0mmisc\u001b[0m\u001b[0;34m.\u001b[0m\u001b[0mimresize\u001b[0m\u001b[0;34m(\u001b[0m\u001b[0mdata\u001b[0m\u001b[0;34m[\u001b[0m\u001b[0;34m'image'\u001b[0m\u001b[0;34m]\u001b[0m\u001b[0;34m[\u001b[0m\u001b[0mindex\u001b[0m\u001b[0;34m]\u001b[0m\u001b[0;34m,\u001b[0m\u001b[0;34m(\u001b[0m\u001b[0;36m54\u001b[0m\u001b[0;34m,\u001b[0m\u001b[0;36m54\u001b[0m\u001b[0;34m)\u001b[0m\u001b[0;34m,\u001b[0m\u001b[0minterp\u001b[0m\u001b[0;34m=\u001b[0m\u001b[0;34m'bicubic'\u001b[0m\u001b[0;34m)\u001b[0m\u001b[0;34m\u001b[0m\u001b[0m\n\u001b[0;32m---> 13\u001b[0;31m         \u001b[0mnull\u001b[0m \u001b[0;34m=\u001b[0m \u001b[0mnp\u001b[0m\u001b[0;34m.\u001b[0m\u001b[0mfull\u001b[0m\u001b[0;34m(\u001b[0m\u001b[0;34m(\u001b[0m\u001b[0;36m5\u001b[0m\u001b[0;34m-\u001b[0m\u001b[0mlen\u001b[0m\u001b[0;34m(\u001b[0m\u001b[0mdata\u001b[0m\u001b[0;34m[\u001b[0m\u001b[0;34m'top'\u001b[0m\u001b[0;34m]\u001b[0m\u001b[0;34m[\u001b[0m\u001b[0mindex\u001b[0m\u001b[0;34m]\u001b[0m\u001b[0;34m)\u001b[0m\u001b[0;34m)\u001b[0m\u001b[0;34m,\u001b[0m\u001b[0;34m-\u001b[0m\u001b[0;36m.5\u001b[0m\u001b[0;34m)\u001b[0m\u001b[0;34m\u001b[0m\u001b[0m\n\u001b[0m\u001b[1;32m     14\u001b[0m         data['boxes'][index] = np.concatenate((np.concatenate((np.divide(np.subtract(data['top'][index],top),height),null)),\n\u001b[1;32m     15\u001b[0m         \u001b[0mnp\u001b[0m\u001b[0;34m.\u001b[0m\u001b[0mconcatenate\u001b[0m\u001b[0;34m(\u001b[0m\u001b[0;34m(\u001b[0m\u001b[0mnp\u001b[0m\u001b[0;34m.\u001b[0m\u001b[0mdivide\u001b[0m\u001b[0;34m(\u001b[0m\u001b[0mnp\u001b[0m\u001b[0;34m.\u001b[0m\u001b[0msubtract\u001b[0m\u001b[0;34m(\u001b[0m\u001b[0mdata\u001b[0m\u001b[0;34m[\u001b[0m\u001b[0;34m'bottom'\u001b[0m\u001b[0;34m]\u001b[0m\u001b[0;34m[\u001b[0m\u001b[0mindex\u001b[0m\u001b[0;34m]\u001b[0m\u001b[0;34m,\u001b[0m\u001b[0mtop\u001b[0m\u001b[0;34m)\u001b[0m\u001b[0;34m,\u001b[0m\u001b[0mheight\u001b[0m\u001b[0;34m)\u001b[0m\u001b[0;34m,\u001b[0m\u001b[0mnull\u001b[0m\u001b[0;34m)\u001b[0m\u001b[0;34m)\u001b[0m\u001b[0;34m,\u001b[0m\u001b[0;34m\u001b[0m\u001b[0m\n",
      "\u001b[0;32m/home/senior/.local/lib/python2.7/site-packages/numpy/core/numeric.pyc\u001b[0m in \u001b[0;36mfull\u001b[0;34m(shape, fill_value, dtype, order)\u001b[0m\n\u001b[1;32m    300\u001b[0m     \u001b[0;32mif\u001b[0m \u001b[0mdtype\u001b[0m \u001b[0;32mis\u001b[0m \u001b[0mNone\u001b[0m\u001b[0;34m:\u001b[0m\u001b[0;34m\u001b[0m\u001b[0m\n\u001b[1;32m    301\u001b[0m         \u001b[0mdtype\u001b[0m \u001b[0;34m=\u001b[0m \u001b[0marray\u001b[0m\u001b[0;34m(\u001b[0m\u001b[0mfill_value\u001b[0m\u001b[0;34m)\u001b[0m\u001b[0;34m.\u001b[0m\u001b[0mdtype\u001b[0m\u001b[0;34m\u001b[0m\u001b[0m\n\u001b[0;32m--> 302\u001b[0;31m     \u001b[0ma\u001b[0m \u001b[0;34m=\u001b[0m \u001b[0mempty\u001b[0m\u001b[0;34m(\u001b[0m\u001b[0mshape\u001b[0m\u001b[0;34m,\u001b[0m \u001b[0mdtype\u001b[0m\u001b[0;34m,\u001b[0m \u001b[0morder\u001b[0m\u001b[0;34m)\u001b[0m\u001b[0;34m\u001b[0m\u001b[0m\n\u001b[0m\u001b[1;32m    303\u001b[0m     \u001b[0mmultiarray\u001b[0m\u001b[0;34m.\u001b[0m\u001b[0mcopyto\u001b[0m\u001b[0;34m(\u001b[0m\u001b[0ma\u001b[0m\u001b[0;34m,\u001b[0m \u001b[0mfill_value\u001b[0m\u001b[0;34m,\u001b[0m \u001b[0mcasting\u001b[0m\u001b[0;34m=\u001b[0m\u001b[0;34m'unsafe'\u001b[0m\u001b[0;34m)\u001b[0m\u001b[0;34m\u001b[0m\u001b[0m\n\u001b[1;32m    304\u001b[0m     \u001b[0;32mreturn\u001b[0m \u001b[0ma\u001b[0m\u001b[0;34m\u001b[0m\u001b[0m\n",
      "\u001b[0;31mValueError\u001b[0m: negative dimensions are not allowed"
     ]
    }
   ],
   "source": [
    "from math import floor, ceil\n",
    "batch_size = 40\n",
    "train_path = 'train/train/'\n",
    "test_path = 'test/test/'\n",
    "total_batches =int(floor(len(data['left'])/batch_size))\n",
    "val_batches=int(ceil(0.1*total_batches))\n",
    "train_batches=int(floor(0.9*total_batches))\n",
    "print total_batches,val_batches, train_batches\n",
    "batch = {}\n",
    "# build the model\n",
    "conv_net = large_cnn(6)\n",
    "\n",
    "for epoch in xrange(1):\n",
    "    for batch_itr in range(0,train_batches):\n",
    "        start_index = batch_itr*batch_size\n",
    "        stop_index = (batch_itr+1)*batch_size\n",
    "        for key in data:\n",
    "            batch[key]=data[key][start_index:stop_index]\n",
    "        batch['image']=image_read(batch['names'],train_path)\n",
    "        crop_scale(batch)\n",
    "        batch['label_list']=[]\n",
    "        for itr in range(0,5):\n",
    "            batch['label_list'].append(batch['hot_label'][:,itr,:])\n",
    "        batch['label_list'].append(batch['hot_label'][:,5,1:6])\n",
    "        batch['label_list'].append(np.stack(batch['boxes']))\n",
    "        batch['image'] = np.stack(batch['image'])/255.0-0.5\n",
    "        # Fit the model\n",
    "        conv_net.train_on_batch(batch['image'],batch['label_list'])\n",
    "    \n",
    "    \n",
    "    #validation test\n",
    "    start_index = train_batches*batch_size\n",
    "    stop_index = (total_batches)*batch_size\n",
    "    for key in data:\n",
    "        batch[key]=data[key][start_index:stop_index]\n",
    "    batch['image']=image_read(batch['names'],train_path)\n",
    "    crop_scale(batch)\n",
    "    batch['label_list']=[]\n",
    "    for itr in range(0,5):\n",
    "        batch['label_list'].append(batch['hot_label'][:,itr,:])\n",
    "    batch['label_list'].append(batch['hot_label'][:,5,1:6])\n",
    "    batch['label_list'].append(np.stack(batch['boxes']))\n",
    "    batch['image'] = np.stack(batch['image'])/255.0-0.5\n",
    "    # Fit the model\n",
    "    print conv_net.evaluate(batch['image'],batch['label_list'],batch_size=400)\n",
    "    print conv_net.metrics_names"
   ]
  },
  {
   "cell_type": "code",
   "execution_count": null,
   "metadata": {
    "collapsed": true
   },
   "outputs": [],
   "source": []
  },
  {
   "cell_type": "code",
   "execution_count": 43,
   "metadata": {
    "collapsed": true
   },
   "outputs": [],
   "source": [
    "conv_net.save('CNNBBR.h5')"
   ]
  },
  {
   "cell_type": "code",
   "execution_count": 7,
   "metadata": {
    "collapsed": false
   },
   "outputs": [],
   "source": [
    "import keras\n",
    "conv_net = keras.models.load_model('CNN3.h5')"
   ]
  },
  {
   "cell_type": "code",
   "execution_count": 48,
   "metadata": {
    "collapsed": false,
    "scrolled": true
   },
   "outputs": [
    {
     "name": "stdout",
     "output_type": "stream",
     "text": [
      "[[-0.02143433  0.05404833 -0.31387389 -0.3556993  -0.4565652   0.74669397\n",
      "   0.66725802 -0.09718483 -0.28720307 -0.58583701  0.04955902  0.1517652\n",
      "  -0.25621638 -0.30143821 -0.39364657  0.39713305  0.74850768 -0.15495181\n",
      "  -0.4170087  -0.55384147]\n",
      " [-0.0445209   0.11869785 -0.5578531  -0.46936384 -0.50037581  0.94584537\n",
      "   1.07606125 -0.50208211 -0.56442881 -0.43505296 -0.12832113  0.56031817\n",
      "  -0.48561692 -0.4631331  -0.39875478  0.44625449  1.08492875 -0.52702188\n",
      "  -0.52291441 -0.45558888]] actual [ 0.          0.01793722 -0.5        -0.5        -0.5         0.98206278\n",
      "  1.         -0.5        -0.5        -0.5         0.          0.44508671\n",
      " -0.5        -0.5        -0.5         0.46820809  1.         -0.5        -0.5\n",
      " -0.5       ]\n"
     ]
    }
   ],
   "source": [
    "batch = {}\n",
    "start_index = 0\n",
    "stop_index = 10\n",
    "train_path = 'train/train/'\n",
    "for key in data:\n",
    "    batch[key]=data[key][start_index:stop_index]\n",
    "batch['image']=image_read(batch['names'],train_path)\n",
    "crop_scale(batch)\n",
    "batch['label_list']=[]\n",
    "for itr in range(0,5):\n",
    "    batch['label_list'].append(batch['hot_label'][:,itr,:])\n",
    "batch['label_list'].append(batch['hot_label'][:,5,1:6])\n",
    "batch['label_list'].append(np.stack(batch['boxes']))\n",
    "batch['image'] = np.stack(batch['image'])/255.0-0.5\n",
    "# Fit the model\n",
    "output =  conv_net.predict(batch['image'][0:2])\n",
    "print output[6],'actual', batch['boxes'][0]"
   ]
  },
  {
   "cell_type": "code",
   "execution_count": null,
   "metadata": {
    "collapsed": false
   },
   "outputs": [],
   "source": [
    "start_index = 0\n",
    "stop_index = 4000\n",
    "batch = {}\n",
    "train_path = 'train/train/'\n",
    "for key in data:\n",
    "    batch[key]=data[key][start_index:stop_index]\n",
    "batch['image']=image_read(batch['names'],train_path)\n",
    "#crop_scale(batch)\n",
    "for itr in xrange(100):\n",
    "    plt.figure()\n",
    "    plt.imshow(batch['image'][itr])\n",
    "    print batch['label'][itr]"
   ]
  },
  {
   "cell_type": "code",
   "execution_count": null,
   "metadata": {
    "collapsed": false
   },
   "outputs": [],
   "source": [
    "\n",
    "#batch['image'] = np.stack(batch['image'])/255.0-1.0\n",
    "for itr in xrange(100):\n",
    "    plt.figure()\n",
    "    plt.imshow(batch['image'][itr])\n",
    "    print batch['label'][itr]"
   ]
  },
  {
   "cell_type": "code",
   "execution_count": 23,
   "metadata": {
    "collapsed": false
   },
   "outputs": [],
   "source": [
    "start_index = 0\n",
    "stop_index = 4000\n",
    "for key in data:\n",
    "    batch[key]=data[key][start_index:stop_index]\n",
    "batch['image']=image_read(batch['names'],train_path)\n",
    "crop_scale(batch)\n",
    "batch['label_list']=[]\n",
    "for itr in range(0,5):\n",
    "    batch['label_list'].append(batch['hot_label'][:,itr,:])\n",
    "batch['label_list'].append(batch['hot_label'][:,5,1:6])\n",
    "batch['image'] = np.stack(batch['image'])/255.0-1.0\n",
    "# Fit the model\n",
    "#print conv_net.evaluate(batch['image'],batch['label_list'],batch_size=400)\n",
    "#print conv_net.metrics_names"
   ]
  },
  {
   "cell_type": "code",
   "execution_count": 33,
   "metadata": {
    "collapsed": false,
    "scrolled": false
   },
   "outputs": [
    {
     "data": {
      "image/png": "[encoded data removed]",
      "text/plain": [
       "<matplotlib.figure.Figure at 0x7f08723f16d0>"
      ]
     },
     "metadata": {},
     "output_type": "display_data"
    },
    {
     "data": {
      "image/png": "[encoded data removed]",
      "text/plain": [
       "<matplotlib.figure.Figure at 0x7f0904d6c9d0>"
      ]
     },
     "metadata": {},
     "output_type": "display_data"
    },
    {
     "data": {
      "image/png": "[encoded data removed]",
      "text/plain": [
       "<matplotlib.figure.Figure at 0x7f0905f86210>"
      ]
     },
     "metadata": {},
     "output_type": "display_data"
    },
    {
     "data": {
      "image/png": "[encoded data removed]",
      "text/plain": [
       "<matplotlib.figure.Figure at 0x7f0905ee6590>"
      ]
     },
     "metadata": {},
     "output_type": "display_data"
    },
    {
     "data": {
      "image/png": "[encoded data removed]",
      "text/plain": [
       "<matplotlib.figure.Figure at 0x7f0871f78f10>"
      ]
     },
     "metadata": {},
     "output_type": "display_data"
    },
    {
     "data": {
      "image/png": "[encoded data removed]",
      "text/plain": [
       "<matplotlib.figure.Figure at 0x7f0905ee6390>"
      ]
     },
     "metadata": {},
     "output_type": "display_data"
    },
    {
     "name": "stdout",
     "output_type": "stream",
     "text": [
      "[array([ 0.        ,  0.27671996,  0.18924017,  0.13017185,  0.10511347,\n",
      "        0.08469553,  0.06445722,  0.05619424,  0.04745225,  0.04344051,\n",
      "        0.00251482]), array([ 0.15379319,  0.09975451,  0.0937369 ,  0.08891683,  0.08403688,\n",
      "        0.085923  ,  0.0745165 ,  0.07903718,  0.07122328,  0.06828932,\n",
      "        0.10077241]), array([ 0.69657506,  0.03377043,  0.02942938,  0.03164481,  0.02930962,\n",
      "        0.03134543,  0.0285911 ,  0.02877073,  0.02814203,  0.02410035,\n",
      "        0.03832106]), array([ 0.95676906,  0.00467038,  0.00449075,  0.0035926 ,  0.00482007,\n",
      "        0.00401174,  0.00389198,  0.00344291,  0.00419137,  0.00362254,\n",
      "        0.00649662]), array([  9.99700617e-01,   5.98766541e-05,   0.00000000e+00,\n",
      "         5.98766541e-05,   0.00000000e+00,   5.98766541e-05,\n",
      "         0.00000000e+00,   5.98766541e-05,   0.00000000e+00,\n",
      "         2.99383270e-05,   2.99383270e-05]), array([  0.00000000e+00,   1.53793186e-01,   5.42781869e-01,\n",
      "         2.60194000e-01,   4.29315610e-02,   2.69444943e-04,\n",
      "         0.00000000e+00,   0.00000000e+00,   2.99383270e-05,\n",
      "         0.00000000e+00,   0.00000000e+00])]\n"
     ]
    }
   ],
   "source": [
    "import matplotlib.mlab as mlab\n",
    "list_label = data['label'].tolist()\n",
    "digits = []\n",
    "digits = [[] for x in xrange(6)]\n",
    "for arr in list_label:\n",
    "    for digit in xrange(6):\n",
    "        digits[digit].append(arr[digit])\n",
    "\n",
    "class_weight = {}\n",
    "itr = 0\n",
    "for digit in digits:\n",
    "\n",
    "    # the histogram of the data\n",
    "    n, bins, patches = plt.hist(digit, bins=11, normed=1, range=(-.5,10.5),facecolor='green')\n",
    "    class_weight[dense_11n)\n",
    "    plt.show()\n",
    "    itr++\n",
    "print probs\n",
    "#plt.xlabel('Smarts')\n",
    "#plt.ylabel('Probability')\n",
    "#plt.title(r'$\\mathrm{Histogram\\ of\\ IQ:}\\ \\mu=100,\\ \\sigma=15$')\n",
    "#plt.axis([40, 160, 0, 0.03])\n",
    "#plt.grid(True)\n",
    "\n",
    "\n",
    "#plt.scatter(range(0,len(data['label'])), length_list)\n",
    "#plt.show()"
   ]
  },
  {
   "cell_type": "code",
   "execution_count": 35,
   "metadata": {
    "collapsed": false
   },
   "outputs": [
    {
     "name": "stdout",
     "output_type": "stream",
     "text": [
      "(6, 11)\n"
     ]
    }
   ],
   "source": [
    "probs = np.stack(probs)\n",
    "print probs.shape\n",
    "class_weight = {}\n",
    "for "
   ]
  },
  {
   "cell_type": "code",
   "execution_count": 39,
   "metadata": {
    "collapsed": false,
    "deletable": true,
    "editable": true
   },
   "outputs": [
    {
     "name": "stdout",
     "output_type": "stream",
     "text": [
      "[ 0.  0.  1.  0.  0.  0.  0.  0.  0.  0.  0.]\n"
     ]
    },
    {
     "data": {
      "image/png": "[encoded data removed]",
      "text/plain": [
       "<matplotlib.figure.Figure at 0x7f087270ffd0>"
      ]
     },
     "metadata": {},
     "output_type": "display_data"
    }
   ],
   "source": [
    "plt.figure()\n",
    "plt.imshow(batch['image'][100])\n",
    "print batch['label_list'][0][100]"
   ]
  },
  {
   "cell_type": "code",
   "execution_count": null,
   "metadata": {
    "collapsed": false,
    "deletable": true,
    "editable": true
   },
   "outputs": [],
   "source": [
    "# Final evaluation of the model\n",
    "predictions = conv_net.predict(test_data,batch_size=200, verbose=1)\n",
    "combined_pred = np.array(predictions).argmax(axis=2).T\n",
    "equiv = combined_pred==label_test\n",
    "print 'digit acc' , float(np.sum(equiv))/10000\n",
    "seq_acc = np.sum((equiv.sum(axis=1)==5))/2000.0\n",
    "print 'sequence acc' , seq_acc"
   ]
  },
  {
   "cell_type": "code",
   "execution_count": null,
   "metadata": {
    "collapsed": true,
    "deletable": true,
    "editable": true
   },
   "outputs": [],
   "source": []
  },
  {
   "cell_type": "markdown",
   "metadata": {
    "deletable": true,
    "editable": true
   },
   "source": [
    "### Question 4\n",
    "_Describe how you set up the training and testing data for your model. How does the model perform on a realistic dataset?_"
   ]
  },
  {
   "cell_type": "markdown",
   "metadata": {
    "deletable": true,
    "editable": true
   },
   "source": [
    "**Answer:**"
   ]
  },
  {
   "cell_type": "markdown",
   "metadata": {
    "deletable": true,
    "editable": true
   },
   "source": [
    "### Question 5\n",
    "_What changes did you have to make, if any, to achieve \"good\" results? Were there any options you explored that made the results worse?_"
   ]
  },
  {
   "cell_type": "markdown",
   "metadata": {
    "deletable": true,
    "editable": true
   },
   "source": [
    "**Answer:**"
   ]
  },
  {
   "cell_type": "markdown",
   "metadata": {
    "deletable": true,
    "editable": true
   },
   "source": [
    "### Question 6\n",
    "_What were your initial and final results with testing on a realistic dataset? Do you believe your model is doing a good enough job at classifying numbers correctly?_"
   ]
  },
  {
   "cell_type": "markdown",
   "metadata": {
    "deletable": true,
    "editable": true
   },
   "source": [
    "**Answer:**"
   ]
  },
  {
   "cell_type": "markdown",
   "metadata": {
    "deletable": true,
    "editable": true
   },
   "source": [
    "----\n",
    "## Step 3: Test a Model on Newly-Captured Images\n",
    "\n",
    "Take several pictures of numbers that you find around you (at least five), and run them through your classifier on your computer to produce example results. Alternatively (optionally), you can try using OpenCV / SimpleCV / Pygame to capture live images from a webcam and run those through your classifier."
   ]
  },
  {
   "cell_type": "markdown",
   "metadata": {
    "deletable": true,
    "editable": true
   },
   "source": [
    "### Implementation\n",
    "Use the code cell (or multiple code cells, if necessary) to implement the first step of your project. Once you have completed your implementation and are satisfied with the results, be sure to thoroughly answer the questions that follow."
   ]
  },
  {
   "cell_type": "code",
   "execution_count": null,
   "metadata": {
    "collapsed": true,
    "deletable": true,
    "editable": true
   },
   "outputs": [],
   "source": [
    "\n",
    "\n",
    "### Your code implementation goes here.\n",
    "### Feel free to use as many code cells as needed.\n",
    "\n"
   ]
  },
  {
   "cell_type": "markdown",
   "metadata": {
    "deletable": true,
    "editable": true
   },
   "source": [
    "### Question 7\n",
    "_Choose five candidate images of numbers you took from around you and provide them in the report. Are there any particular qualities of the image(s) that might make classification difficult?_"
   ]
  },
  {
   "cell_type": "markdown",
   "metadata": {
    "deletable": true,
    "editable": true
   },
   "source": [
    "**Answer:**"
   ]
  },
  {
   "cell_type": "markdown",
   "metadata": {
    "deletable": true,
    "editable": true
   },
   "source": [
    "### Question 8\n",
    "_Is your model able to perform equally well on captured pictures or a live camera stream when compared to testing on the realistic dataset?_"
   ]
  },
  {
   "cell_type": "markdown",
   "metadata": {
    "deletable": true,
    "editable": true
   },
   "source": [
    "**Answer:**"
   ]
  },
  {
   "cell_type": "markdown",
   "metadata": {
    "deletable": true,
    "editable": true
   },
   "source": [
    "### Optional: Question 9\n",
    "_If necessary, provide documentation for how an interface was built for your model to load and classify newly-acquired images._"
   ]
  },
  {
   "cell_type": "markdown",
   "metadata": {
    "deletable": true,
    "editable": true
   },
   "source": [
    "**Answer:** Leave blank if you did not complete this part."
   ]
  },
  {
   "cell_type": "markdown",
   "metadata": {
    "deletable": true,
    "editable": true
   },
   "source": [
    "----\n",
    "### Step 4: Explore an Improvement for a Model\n",
    "\n",
    "There are many things you can do once you have the basic classifier in place. One example would be to also localize where the numbers are on the image. The SVHN dataset provides bounding boxes that you can tune to train a localizer. Train a regression loss to the coordinates of the bounding box, and then test it. "
   ]
  },
  {
   "cell_type": "markdown",
   "metadata": {
    "deletable": true,
    "editable": true
   },
   "source": [
    "## IOU\n",
    "Adrian Rosebrock\n",
    "http://www.pyimagesearch.com/2016/11/07/intersection-over-union-iou-for-object-detection/\n",
    "\n",
    "Pixel coordinate refrences may be screwy if errors double check here!"
   ]
  },
  {
   "cell_type": "code",
   "execution_count": null,
   "metadata": {
    "collapsed": true,
    "deletable": true,
    "editable": true
   },
   "outputs": [],
   "source": [
    "#Intersection over union\n",
    "def iou(tt,lt,wt,ht,tg,lg,wg,hg):\n",
    "    # determine the (x, y)-coordinates of the intersection rectangle\n",
    "    li = max(lt, lg)\n",
    "    bi = max(tt-ht, tg-hg)\n",
    "    ri = min(lt+wt, lg+wg)\n",
    "    ti = min(tt, tg)\n",
    "\n",
    "    # compute the area of intersection rectangle\n",
    "    interArea = (ri - li) * (ti - bi)\n",
    "\n",
    "    # compute the area of both the prediction and ground-truth\n",
    "    # rectangles\n",
    "    train_area = wt*ht+1\n",
    "    guess_area = wg*hg+1\n",
    "\n",
    "    # compute the intersection over union by taking the intersection\n",
    "    # area and dividing it by the sum of prediction + ground-truth\n",
    "    # areas - the interesection area\n",
    "    iou = interArea / float(train_area + guess_area - interArea)\n",
    "\n",
    "    # return the intersection over union value\n",
    "    return iou"
   ]
  },
  {
   "cell_type": "code",
   "execution_count": null,
   "metadata": {
    "collapsed": true
   },
   "outputs": [],
   "source": []
  },
  {
   "cell_type": "markdown",
   "metadata": {
    "deletable": true,
    "editable": true
   },
   "source": [
    "### Implementation\n",
    "Use the code cell (or multiple code cells, if necessary) to implement the first step of your project. Once you have completed your implementation and are satisfied with the results, be sure to thoroughly answer the questions that follow."
   ]
  },
  {
   "cell_type": "code",
   "execution_count": null,
   "metadata": {
    "collapsed": true,
    "deletable": true,
    "editable": true
   },
   "outputs": [],
   "source": [
    "\n",
    "\n",
    "### Your code implementation goes here.\n",
    "### Feel free to use as many code cells as needed.\n",
    "\n"
   ]
  },
  {
   "cell_type": "markdown",
   "metadata": {
    "deletable": true,
    "editable": true
   },
   "source": [
    "### Question 10\n",
    "_How well does your model localize numbers on the testing set from the realistic dataset? Do your classification results change at all with localization included?_"
   ]
  },
  {
   "cell_type": "markdown",
   "metadata": {
    "deletable": true,
    "editable": true
   },
   "source": [
    "**Answer:**"
   ]
  },
  {
   "cell_type": "markdown",
   "metadata": {
    "deletable": true,
    "editable": true
   },
   "source": [
    "### Question 11\n",
    "_Test the localization function on the images you captured in **Step 3**. Does the model accurately calculate a bounding box for the numbers in the images you found? If you did not use a graphical interface, you may need to investigate the bounding boxes by hand._ Provide an example of the localization created on a captured image."
   ]
  },
  {
   "cell_type": "markdown",
   "metadata": {
    "deletable": true,
    "editable": true
   },
   "source": [
    "**Answer:**"
   ]
  },
  {
   "cell_type": "markdown",
   "metadata": {
    "deletable": true,
    "editable": true
   },
   "source": [
    "----\n",
    "## Optional Step 5: Build an Application or Program for a Model\n",
    "Take your project one step further. If you're interested, look to build an Android application or even a more robust Python program that can interface with input images and display the classified numbers and even the bounding boxes. You can for example try to build an augmented reality app by overlaying your answer on the image like the [Word Lens](https://en.wikipedia.org/wiki/Word_Lens) app does.\n",
    "\n",
    "Loading a TensorFlow model into a camera app on Android is demonstrated in the [TensorFlow Android demo app](https://github.com/tensorflow/tensorflow/tree/master/tensorflow/examples/android), which you can simply modify.\n",
    "\n",
    "If you decide to explore this optional route, be sure to document your interface and implementation, along with significant results you find. You can see the additional rubric items that you could be evaluated on by [following this link](https://review.udacity.com/#!/rubrics/413/view)."
   ]
  },
  {
   "cell_type": "markdown",
   "metadata": {
    "deletable": true,
    "editable": true
   },
   "source": [
    "### Optional Implementation\n",
    "Use the code cell (or multiple code cells, if necessary) to implement the first step of your project. Once you have completed your implementation and are satisfied with the results, be sure to thoroughly answer the questions that follow."
   ]
  },
  {
   "cell_type": "code",
   "execution_count": null,
   "metadata": {
    "collapsed": true,
    "deletable": true,
    "editable": true
   },
   "outputs": [],
   "source": [
    "\n",
    "\n",
    "### Your optional code implementation goes here.\n",
    "### Feel free to use as many code cells as needed.\n",
    "\n"
   ]
  },
  {
   "cell_type": "markdown",
   "metadata": {
    "deletable": true,
    "editable": true
   },
   "source": [
    "### Documentation\n",
    "Provide additional documentation sufficient for detailing the implementation of the Android application or Python program for visualizing the classification of numbers in images. It should be clear how the program or application works. Demonstrations should be provided. "
   ]
  },
  {
   "cell_type": "markdown",
   "metadata": {
    "deletable": true,
    "editable": true
   },
   "source": [
    "_Write your documentation here._"
   ]
  },
  {
   "cell_type": "markdown",
   "metadata": {
    "deletable": true,
    "editable": true
   },
   "source": [
    "> **Note**: Once you have completed all of the code implementations and successfully answered each question above, you may finalize your work by exporting the iPython Notebook as an HTML document. You can do this by using the menu above and navigating to  \n",
    "**File -> Download as -> HTML (.html)**. Include the finished document along with this notebook as your submission."
   ]
  }
 ],
 "metadata": {
  "kernelspec": {
   "display_name": "Python 2",
   "language": "python",
   "name": "python2"
  },
  "language_info": {
   "codemirror_mode": {
    "name": "ipython",
    "version": 2
   },
   "file_extension": ".py",
   "mimetype": "text/x-python",
   "name": "python",
   "nbconvert_exporter": "python",
   "pygments_lexer": "ipython2",
   "version": "2.7.12"
  }
 },
 "nbformat": 4,
 "nbformat_minor": 0
}
