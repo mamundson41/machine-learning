{
 "cells": [
  {
   "cell_type": "code",
   "execution_count": 1,
   "metadata": {
    "collapsed": false
   },
   "outputs": [
    {
     "name": "stderr",
     "output_type": "stream",
     "text": [
      "Using TensorFlow backend.\n"
     ]
    }
   ],
   "source": [
    "import numpy as np\n",
    "import h5py\n",
    "import matplotlib.pyplot as plt\n",
    "%matplotlib inline\n",
    "from scipy import misc\n",
    "from keras.utils import np_utils\n",
    "from keras.models import Model\n",
    "from keras.layers import Dense, Input, merge, Convolution2D, MaxPooling2D\n",
    "from keras.layers import Dropout, Flatten\n",
    "import cPickle as pickle\n",
    "data = pickle.load(open('data.p', 'rb'))\n",
    "test_data = pickle.load(open('test_data.p', 'rb'))\n",
    "extra = pickle.load(open('extra.p', 'rb'))"
   ]
  },
  {
   "cell_type": "code",
   "execution_count": 2,
   "metadata": {
    "collapsed": true,
    "deletable": true,
    "editable": true
   },
   "outputs": [],
   "source": [
    "#Read image data into numpy array\n",
    "def image_read(name_data, path):\n",
    "    image_list = []\n",
    "    for image_name in name_data:\n",
    "        image_list.append(misc.imread(path+image_name))\n",
    "    return np.asarray(image_list)"
   ]
  },
  {
   "cell_type": "code",
   "execution_count": 3,
   "metadata": {
    "collapsed": false
   },
   "outputs": [],
   "source": [
    "#Shrinks image down to 54x54 based on bbox.  Reformats charecter bboxes to be ratio of new bbox.\n",
    "def crop_scale(data):\n",
    "    data['boxes']= [None]*len(data['image'])\n",
    "    for index in range(0,len(data['image'])):\n",
    "        top=int(max(data['top'][index].min(),0))\n",
    "        bottom = int(data['bottom'][index].max())\n",
    "        left = int(max(data['left'][index].min(),0))\n",
    "        right = int(data['right'][index].max())\n",
    "        width = right - left\n",
    "        height = bottom - top\n",
    "        data['image'][index] = data['image'][index][top:bottom,left:right,:]\n",
    "        data['image'][index] = misc.imresize(data['image'][index],(54,54),interp='bicubic')\n",
    "        null = np.full((5-len(data['top'][index])),-.5)\n",
    "        data['boxes'][index] = np.concatenate((np.concatenate((np.divide(np.subtract(data['top'][index],top),height),null)),\n",
    "        np.concatenate((np.divide(np.subtract(data['bottom'][index],top),height),null)),\n",
    "        np.concatenate((np.divide(np.subtract(data['left'][index],left),width),null)),\n",
    "        np.concatenate((np.divide(np.subtract(data['right'][index],left),width),null))))"
   ]
  },
  {
   "cell_type": "markdown",
   "metadata": {
    "deletable": true,
    "editable": true
   },
   "source": [
    "## One hot"
   ]
  },
  {
   "cell_type": "code",
   "execution_count": 4,
   "metadata": {
    "collapsed": false,
    "deletable": true,
    "editable": true,
    "scrolled": false
   },
   "outputs": [
    {
     "name": "stdout",
     "output_type": "stream",
     "text": [
      "[[ 0.  0.  0.  0.  1.  0.  0.  0.  0.  0.  0.]\n",
      " [ 1.  0.  0.  0.  0.  0.  0.  0.  0.  0.  0.]\n",
      " [ 1.  0.  0.  0.  0.  0.  0.  0.  0.  0.  0.]\n",
      " [ 1.  0.  0.  0.  0.  0.  0.  0.  0.  0.  0.]\n",
      " [ 1.  0.  0.  0.  0.  0.  0.  0.  0.  0.  0.]\n",
      " [ 0.  0.  0.  0.  0.  1.  0.  0.  0.  0.  0.]] [ 4.  0.  0.  0.  0.  5.]\n"
     ]
    }
   ],
   "source": [
    "num_out = 6\n",
    "data['unified_label'][29929,5]=5.0\n",
    "data['hot_label'] = np.zeros((data['unified_label'].shape[0],num_out,11))\n",
    "test_data['hot_label'] = np.zeros((test_data['unified_label'].shape[0],num_out,11))\n",
    "for digit in range(0,num_out):\n",
    "    #print data['unified_label'].shape\n",
    "    data['hot_label'][:,digit,:] = np_utils.to_categorical(data['unified_label'][:,digit],11)\n",
    "    test_data['hot_label'][:,digit,:] = np_utils.to_categorical(test_data['unified_label'][:,digit],11)\n",
    "print data['hot_label'][29929],data['unified_label'][29929]"
   ]
  },
  {
   "cell_type": "code",
   "execution_count": 13,
   "metadata": {
    "collapsed": false,
    "deletable": true,
    "editable": true
   },
   "outputs": [],
   "source": [
    "from keras.layers.normalization import BatchNormalization\n",
    "def large_cnn(num_outs):\n",
    "    input_img=Input(shape=(54,54,3))\n",
    "    con1 = Convolution2D(16, 9, 9, border_mode='valid', activation='relu')(input_img)\n",
    "    pool1 = MaxPooling2D(pool_size=(2, 2))(con1)\n",
    "    bnorm1 = BatchNormalization()(pool1)\n",
    "    con2 = Convolution2D(32, 5, 5, border_mode='valid', activation='relu')(bnorm1)\n",
    "    pool2 = MaxPooling2D(pool_size=(2, 2))(con2)\n",
    "    bnorm2 = BatchNormalization()(pool2)\n",
    "    drop1 = Dropout(0.4)(bnorm2)\n",
    "    con3 = Convolution2D(64, 3, 3, border_mode='valid', activation='relu')(drop1)\n",
    "    bnorm3 = BatchNormalization()(con3)\n",
    "    flat = Flatten()(bnorm3)\n",
    "    den1 = Dense(128, activation='relu')(flat)\n",
    "    den2 = Dense(128, activation='relu')(den1)\n",
    "    drop2 = Dropout(0.4)(den2)\n",
    "    output = Dense(20)(drop2)\n",
    "    model = Model(input=input_img, output=output)\n",
    "    model.compile(loss='mean_squared_error', optimizer='adam')\n",
    "    return model"
   ]
  },
  {
   "cell_type": "code",
   "execution_count": 18,
   "metadata": {
    "collapsed": false,
    "scrolled": true
   },
   "outputs": [
    {
     "name": "stdout",
     "output_type": "stream",
     "text": [
      "1043 105 938\n",
      "3360/3360 [==============================] - 70s      \b\b\b\b\b\b\b\b\b\b\b\b\b\b\b\b\b\b\b\b\b\b\b\b\b\b\b\b\b\b\b\b\b\b\b\b\b\b\b\b\b\b\b\b\b\b\b\b\b\b\b\b\b\b\b\b\b\b\b\b\b\b\b\b\b\b\b\b\b\b\b\b\b\b\b\b\b\b\b\b\b\b\b\b\b\b\b\b\b\b\b\b\b\b\b\b\b\b\b\b\b\b\b\b\b\b\b\b\b\b\b\b\b\b\b\b\b\b\b\b\b\b\b\b\b\b\b\b\b\b\b\b\b\b\b\b\b\b\b\b\b\b\b\b\b\b\b\b\b\b\b\b\b\b\b\b\b\b\b\b\b\b\b\b\b\b\b\b\b\b\b\b\b\b\b\b\b\b\b\b\b\b\b\b\b\b\b\b\b\b\b\b\b\b\b\b\b\b\b\b\b\b\b\b\b\b\b\b\b\b\b\b\b\b\b\b\b\b\b\b\b\b\b\b\b\b\b\b\b\b\b\b\b\b\b\b\b\b\b\b\b\b\b\b\b\b\b\b\b\b\b\b\b\b\b\b\b\b\b\b\b\b\b\b\b\b\b\b\b\b\b\b\b\b\b\b\b\b\b\b\b\b\b\b\b\b\b\b\b\b\b\b\b\b\b\b\b\b\b\b\b\b\b\b\b\b\b\b\b\b\b\b\b\b\b\b\b\b\b\b\b\b\b\b\b\b\b\b\b\b\b\b\b\b\b\b\b\b\b\b\b\b\b\b\b\b\b\b\b\b\b\b\b\b\b\b\b\b\b\b\b\b\b\b\b\b\b\b\b\b\b\b\b\b\b\b\b\b\b\b\b\b\b\b\b\b\b\b\b\b\b\b\b\b\b\b\b\b\b\b\b\b\b\b\b\b\b\b\b\b\b\b\b\b\b\b\b\b\b\b\b\b\b\b\b\n",
      "0.0424199535378\n",
      "['loss']\n"
     ]
    },
    {
     "ename": "IOError",
     "evalue": "[Errno 2] No such file or directory: 'train/train/129255.png'",
     "output_type": "error",
     "traceback": [
      "\u001b[0;31m---------------------------------------------------------------------------\u001b[0m",
      "\u001b[0;31mIOError\u001b[0m                                   Traceback (most recent call last)",
      "\u001b[0;32m<ipython-input-18-ee5c7427cb6a>\u001b[0m in \u001b[0;36m<module>\u001b[0;34m()\u001b[0m\n\u001b[1;32m     51\u001b[0m         \u001b[0;32mfor\u001b[0m \u001b[0mkey\u001b[0m \u001b[0;32min\u001b[0m \u001b[0mextra\u001b[0m\u001b[0;34m:\u001b[0m\u001b[0;34m\u001b[0m\u001b[0m\n\u001b[1;32m     52\u001b[0m             \u001b[0mbatch\u001b[0m\u001b[0;34m[\u001b[0m\u001b[0mkey\u001b[0m\u001b[0;34m]\u001b[0m\u001b[0;34m=\u001b[0m\u001b[0mextra\u001b[0m\u001b[0;34m[\u001b[0m\u001b[0mkey\u001b[0m\u001b[0;34m]\u001b[0m\u001b[0;34m[\u001b[0m\u001b[0mstart_index\u001b[0m\u001b[0;34m:\u001b[0m\u001b[0mstop_index\u001b[0m\u001b[0;34m]\u001b[0m\u001b[0;34m\u001b[0m\u001b[0m\n\u001b[0;32m---> 53\u001b[0;31m         \u001b[0mbatch\u001b[0m\u001b[0;34m[\u001b[0m\u001b[0;34m'image'\u001b[0m\u001b[0;34m]\u001b[0m\u001b[0;34m=\u001b[0m\u001b[0mimage_read\u001b[0m\u001b[0;34m(\u001b[0m\u001b[0mbatch\u001b[0m\u001b[0;34m[\u001b[0m\u001b[0;34m'names'\u001b[0m\u001b[0;34m]\u001b[0m\u001b[0;34m,\u001b[0m\u001b[0mtrain_path\u001b[0m\u001b[0;34m)\u001b[0m\u001b[0;34m\u001b[0m\u001b[0m\n\u001b[0m\u001b[1;32m     54\u001b[0m         \u001b[0mcrop_scale\u001b[0m\u001b[0;34m(\u001b[0m\u001b[0mbatch\u001b[0m\u001b[0;34m)\u001b[0m\u001b[0;34m\u001b[0m\u001b[0m\n\u001b[1;32m     55\u001b[0m         \u001b[0;31m#batch['label_list']=[]\u001b[0m\u001b[0;34m\u001b[0m\u001b[0;34m\u001b[0m\u001b[0m\n",
      "\u001b[0;32m<ipython-input-10-b428c8eed424>\u001b[0m in \u001b[0;36mimage_read\u001b[0;34m(name_data, path)\u001b[0m\n\u001b[1;32m      3\u001b[0m     \u001b[0mimage_list\u001b[0m \u001b[0;34m=\u001b[0m \u001b[0;34m[\u001b[0m\u001b[0;34m]\u001b[0m\u001b[0;34m\u001b[0m\u001b[0m\n\u001b[1;32m      4\u001b[0m     \u001b[0;32mfor\u001b[0m \u001b[0mimage_name\u001b[0m \u001b[0;32min\u001b[0m \u001b[0mname_data\u001b[0m\u001b[0;34m:\u001b[0m\u001b[0;34m\u001b[0m\u001b[0m\n\u001b[0;32m----> 5\u001b[0;31m         \u001b[0mimage_list\u001b[0m\u001b[0;34m.\u001b[0m\u001b[0mappend\u001b[0m\u001b[0;34m(\u001b[0m\u001b[0mmisc\u001b[0m\u001b[0;34m.\u001b[0m\u001b[0mimread\u001b[0m\u001b[0;34m(\u001b[0m\u001b[0mpath\u001b[0m\u001b[0;34m+\u001b[0m\u001b[0mimage_name\u001b[0m\u001b[0;34m)\u001b[0m\u001b[0;34m)\u001b[0m\u001b[0;34m\u001b[0m\u001b[0m\n\u001b[0m\u001b[1;32m      6\u001b[0m     \u001b[0;32mreturn\u001b[0m \u001b[0mnp\u001b[0m\u001b[0;34m.\u001b[0m\u001b[0masarray\u001b[0m\u001b[0;34m(\u001b[0m\u001b[0mimage_list\u001b[0m\u001b[0;34m)\u001b[0m\u001b[0;34m\u001b[0m\u001b[0m\n",
      "\u001b[0;32m/home/senior/anaconda2/lib/python2.7/site-packages/scipy/misc/pilutil.pyc\u001b[0m in \u001b[0;36mimread\u001b[0;34m(name, flatten, mode)\u001b[0m\n\u001b[1;32m    152\u001b[0m     \"\"\"\n\u001b[1;32m    153\u001b[0m \u001b[0;34m\u001b[0m\u001b[0m\n\u001b[0;32m--> 154\u001b[0;31m     \u001b[0mim\u001b[0m \u001b[0;34m=\u001b[0m \u001b[0mImage\u001b[0m\u001b[0;34m.\u001b[0m\u001b[0mopen\u001b[0m\u001b[0;34m(\u001b[0m\u001b[0mname\u001b[0m\u001b[0;34m)\u001b[0m\u001b[0;34m\u001b[0m\u001b[0m\n\u001b[0m\u001b[1;32m    155\u001b[0m     \u001b[0;32mreturn\u001b[0m \u001b[0mfromimage\u001b[0m\u001b[0;34m(\u001b[0m\u001b[0mim\u001b[0m\u001b[0;34m,\u001b[0m \u001b[0mflatten\u001b[0m\u001b[0;34m=\u001b[0m\u001b[0mflatten\u001b[0m\u001b[0;34m,\u001b[0m \u001b[0mmode\u001b[0m\u001b[0;34m=\u001b[0m\u001b[0mmode\u001b[0m\u001b[0;34m)\u001b[0m\u001b[0;34m\u001b[0m\u001b[0m\n\u001b[1;32m    156\u001b[0m \u001b[0;34m\u001b[0m\u001b[0m\n",
      "\u001b[0;32m/home/senior/anaconda2/lib/python2.7/site-packages/PIL/Image.pyc\u001b[0m in \u001b[0;36mopen\u001b[0;34m(fp, mode)\u001b[0m\n\u001b[1;32m   2310\u001b[0m \u001b[0;34m\u001b[0m\u001b[0m\n\u001b[1;32m   2311\u001b[0m     \u001b[0;32mif\u001b[0m \u001b[0mfilename\u001b[0m\u001b[0;34m:\u001b[0m\u001b[0;34m\u001b[0m\u001b[0m\n\u001b[0;32m-> 2312\u001b[0;31m         \u001b[0mfp\u001b[0m \u001b[0;34m=\u001b[0m \u001b[0mbuiltins\u001b[0m\u001b[0;34m.\u001b[0m\u001b[0mopen\u001b[0m\u001b[0;34m(\u001b[0m\u001b[0mfilename\u001b[0m\u001b[0;34m,\u001b[0m \u001b[0;34m\"rb\"\u001b[0m\u001b[0;34m)\u001b[0m\u001b[0;34m\u001b[0m\u001b[0m\n\u001b[0m\u001b[1;32m   2313\u001b[0m \u001b[0;34m\u001b[0m\u001b[0m\n\u001b[1;32m   2314\u001b[0m     \u001b[0;32mtry\u001b[0m\u001b[0;34m:\u001b[0m\u001b[0;34m\u001b[0m\u001b[0m\n",
      "\u001b[0;31mIOError\u001b[0m: [Errno 2] No such file or directory: 'train/train/129255.png'"
     ]
    }
   ],
   "source": [
    "from math import floor, ceil\n",
    "batch_size = 32\n",
    "train_path = 'train/train/'\n",
    "extra_path = 'extra/extra/'\n",
    "test_path = 'test/test/'\n",
    "total_batches =int(floor(len(data['left'])/batch_size))\n",
    "extra_batches = int(floor(len(extra['left'])/batch_size))\n",
    "val_batches=int(ceil(0.1*total_batches))\n",
    "train_batches=int(floor(0.9*total_batches))\n",
    "print total_batches,val_batches, train_batches\n",
    "batch = {}\n",
    "# build the model\n",
    "conv_net = large_cnn(6)\n",
    "\n",
    "for epoch in xrange(1):\n",
    "    for batch_itr in range(0, train_batches):\n",
    "        start_index = batch_itr*batch_size\n",
    "        stop_index = (batch_itr+1)*batch_size\n",
    "        for key in data:\n",
    "            batch[key]=data[key][start_index:stop_index]\n",
    "        batch['image']=image_read(batch['names'],train_path)\n",
    "        crop_scale(batch)\n",
    "        #batch['label_list']=[]\n",
    "        #for itr in range(0,5):\n",
    "            #batch['label_list'].append(batch['hot_label'][:,itr,:])\n",
    "        #batch['label_list'].append(batch['hot_label'][:,5,1:6])\n",
    "        #batch['label_list'].append(np.stack(batch['boxes']))\n",
    "        batch['image'] = np.stack(batch['image'])/255.0-0.5\n",
    "        # Fit the model\n",
    "        conv_net.train_on_batch(batch['image'],np.stack(batch['boxes']))\n",
    "        \n",
    "    #validation test\n",
    "    start_index = train_batches*batch_size\n",
    "    stop_index = (total_batches)*batch_size\n",
    "    for key in data:\n",
    "        batch[key]=data[key][start_index:stop_index]\n",
    "    batch['image']=image_read(batch['names'],train_path)\n",
    "    crop_scale(batch)\n",
    "    batch['label_list']=[]\n",
    "    for itr in range(0,5):\n",
    "        batch['label_list'].append(batch['hot_label'][:,itr,:])\n",
    "    batch['label_list'].append(batch['hot_label'][:,5,1:6])\n",
    "    batch['label_list'].append(np.stack(batch['boxes']))\n",
    "    batch['image'] = np.stack(batch['image'])/255.0-0.5\n",
    "    # Fit the model\n",
    "    print conv_net.evaluate(batch['image'],np.stack(batch['boxes']),batch_size=400)\n",
    "    print conv_net.metrics_names    "
   ]
  },
  {
   "cell_type": "code",
   "execution_count": null,
   "metadata": {
    "collapsed": false
   },
   "outputs": [],
   "source": [
    "for batch_itr in range(0, extra_batches):\n",
    "    start_index = batch_itr*batch_size\n",
    "    stop_index = (batch_itr+1)*batch_size\n",
    "    for key in extra:\n",
    "        batch[key]=extra[key][start_index:stop_index]\n",
    "    batch['image']=image_read(batch['names'],extra_path)\n",
    "    crop_scale(batch)\n",
    "    #batch['label_list']=[]\n",
    "    #for itr in range(0,5):\n",
    "        #batch['label_list'].append(batch['hot_label'][:,itr,:])\n",
    "    #batch['label_list'].append(batch['hot_label'][:,5,1:6])\n",
    "    #batch['label_list'].append(np.stack(batch['boxes']))\n",
    "    batch['image'] = np.stack(batch['image'])/255.0-0.5\n",
    "    # Fit the model\n",
    "    conv_net.train_on_batch(batch['image'],np.stack(batch['boxes']))\n",
    "\n",
    "\n",
    "#validation test\n",
    "start_index = train_batches*batch_size\n",
    "stop_index = (total_batches)*batch_size\n",
    "for key in data:\n",
    "    batch[key]=data[key][start_index:stop_index]\n",
    "batch['image']=image_read(batch['names'],train_path)\n",
    "crop_scale(batch)\n",
    "batch['label_list']=[]\n",
    "for itr in range(0,5):\n",
    "    batch['label_list'].append(batch['hot_label'][:,itr,:])\n",
    "batch['label_list'].append(batch['hot_label'][:,5,1:6])\n",
    "batch['label_list'].append(np.stack(batch['boxes']))\n",
    "batch['image'] = np.stack(batch['image'])/255.0-0.5\n",
    "# Fit the model\n",
    "predictions = conv_net.predict(batch['image'], batch_size=batch_size)\n",
    "print conv_net.evaluate(batch['image'],np.stack(batch['boxes']),batch_size=400)\n",
    "print conv_net.metrics_names"
   ]
  },
  {
   "cell_type": "code",
   "execution_count": 21,
   "metadata": {
    "collapsed": false
   },
   "outputs": [
    {
     "name": "stdout",
     "output_type": "stream",
     "text": [
      "3360/3360 [==============================] - 20s     \b\b\b\b\b\b\b\b\b\b\b\b\b\b\b\b\b\b\b\b\b\b\b\b\b\b\b\b\b\b\b\b\b\b\b\b\b\b\b\b\b\b\b\b\b\b\b\b\b\b\b\b\b\b\b\b\b\b\b\b\b\b\b\b\b\b\b\b\b\b\b\b\b\b\b\b\b\b\b\b\b\b\b\b\b\b\b\b\b\b\b\b\b\b\b\b\b\b\b\b\b\b\b\b\b\b\b\b\b\b\b\b\b\b\b\b\b\b\b\b\b\b\b\b\b\b\b\b\b\b\b\b\b\b\b\b\b\b\b\b\b\b\b\b\b\b\b\b\b\b\b\b\b\b\b\b\b\b\b\b\b\b\b\b\b\b\b\b\b\b\b\b\b\b\b\b\b\b\b\b\b\b\b\b\b\b\b\b\b\b\b\b\b\b\b\b\b\b\b\b\b\b\b\b\b\b\b\b\b\b\b\b\b\b\b\b\b\b\b\b\b\b\b\b\b\b\b\b\b\b\b\b\b\b\b\b\b\b\b\b\b\b\b\b\b\b\b\b\b\b\b\b\b\b\b\b\b\b\b\b\b\b\b\b\b\b\b\b\b\b\b\b\b\b\b\b\b\b\b\b\b\b\b\b\b\b\b\b\b\b\b\b\b\b\b\b\b\b\b\b\b\b\b\b\b\b\b\b\b\b\b\b\b\b\b\b\b\b\b\b\b\b\b\b\b\b\b\b\b\b\b\b\b\b\b\b\b\b\b\b\b\b\b\b\b\b\b\b\b\b\b\b\b\b\b\b\b\b\b\b\b\b\b\b\b\b\b\b\b\b\b\b\b\b\b\b\b\b\b\b\b\b\b\b\b\b\b\b\b\b\b\b\b\b\b\b\b\b\b\b\b\b\b\b\b\b\b\b\b\b\b\b\b\b\b\b\b\b\b\b\n",
      "0.0243150021083\n",
      "['loss']\n"
     ]
    }
   ],
   "source": [
    "print conv_net.evaluate(batch['image'],np.stack(batch['boxes']),batch_size=400)\n",
    "print conv_net.metrics_names"
   ]
  },
  {
   "cell_type": "code",
   "execution_count": 20,
   "metadata": {
    "collapsed": true
   },
   "outputs": [],
   "source": [
    "conv_net.save('BBR.h5')"
   ]
  },
  {
   "cell_type": "code",
   "execution_count": 6,
   "metadata": {
    "collapsed": false
   },
   "outputs": [],
   "source": [
    "import keras\n",
    "conv_net = keras.models.load_model('BBR.h5')"
   ]
  },
  {
   "cell_type": "code",
   "execution_count": 36,
   "metadata": {
    "collapsed": false,
    "scrolled": true
   },
   "outputs": [
    {
     "name": "stdout",
     "output_type": "stream",
     "text": [
      "0.0319836 0.962071 -0.0631097 0.388478\n",
      "0.0 0.982062780269 0.0 0.468208092486\n",
      "[  0.69681663   0.50110441 -68.89629574  18.42322515  -0.        ]\n"
     ]
    }
   ],
   "source": [
    "batch = {}\n",
    "start_index = 0\n",
    "stop_index = 10\n",
    "train_path = 'train/train/'\n",
    "for key in data:\n",
    "    batch[key]=data[key][start_index:stop_index]\n",
    "batch['image']=image_read(batch['names'],train_path)\n",
    "crop_scale(batch)\n",
    "batch['label_list']=[]\n",
    "for itr in range(0,5):\n",
    "    batch['label_list'].append(batch['hot_label'][:,itr,:])\n",
    "batch['label_list'].append(batch['hot_label'][:,5,1:6])\n",
    "batch['label_list'].append(np.stack(batch['boxes']))\n",
    "batch['image'] = np.stack(batch['image'])/255.0-0.5\n",
    "# Fit the model\n",
    "output =  conv_net.predict(batch['image'])\n",
    "print output[6][0][0],output[6][0][5],output[6][0][10],output[6][0][15]\n",
    "print batch['boxes'][0][0],batch['boxes'][0][5],batch['boxes'][0][10],batch['boxes'][0][15]\n",
    "print iou(output[6][0],batch['boxes'][0])"
   ]
  },
  {
   "cell_type": "code",
   "execution_count": 39,
   "metadata": {
    "collapsed": false,
    "scrolled": false
   },
   "outputs": [
    {
     "name": "stdout",
     "output_type": "stream",
     "text": [
      "0.612111344783\n",
      "[ 2.  9.  4.  0.  0.  3.]\n",
      "3360\n"
     ]
    }
   ],
   "source": [
    "#Evaluate average IOU\n",
    "total_iou = 0.0\n",
    "total_digits = 0.0\n",
    "for itr in xrange(len(predictions)):\n",
    "    seq_iou = iou(predictions[itr],batch['boxes'][itr])\n",
    "    #print sum(seq_iou[0:int(batch['unified_label'][itr][5])])\n",
    "    total_iou += sum(seq_iou[0:int(batch['unified_label'][itr][5])])\n",
    "    total_digits += batch['unified_label'][itr][5]\n",
    "print total_iou/total_digits"
   ]
  },
  {
   "cell_type": "code",
   "execution_count": null,
   "metadata": {
    "collapsed": false
   },
   "outputs": [],
   "source": [
    "#batch['image'] = np.stack(batch['image'])/255.0-1.0\n",
    "for itr in xrange(100):\n",
    "    plt.figure()\n",
    "    plt.imshow(batch['image'][itr])\n",
    "    print batch['label'][itr]"
   ]
  },
  {
   "cell_type": "code",
   "execution_count": null,
   "metadata": {
    "collapsed": false,
    "deletable": true,
    "editable": true
   },
   "outputs": [],
   "source": [
    "# Final evaluation of the model MNIST\n",
    "predictions = conv_net.predict(test_data,batch_size=200, verbose=1)\n",
    "combined_pred = np.array(predictions).argmax(axis=2).T\n",
    "equiv = combined_pred==label_test\n",
    "print 'digit acc' , float(np.sum(equiv))/10000\n",
    "seq_acc = np.sum((equiv.sum(axis=1)==5))/2000.0\n",
    "print 'sequence acc' , seq_acc"
   ]
  },
  {
   "cell_type": "code",
   "execution_count": 22,
   "metadata": {
    "collapsed": false,
    "deletable": true,
    "editable": true
   },
   "outputs": [],
   "source": [
    "#Intersection over union\n",
    "def iou(y_true, y_pred):\n",
    "    top_true = y_true[0:5]\n",
    "    bottom_true = y_true[5:10]\n",
    "    left_true = y_true[10:15]\n",
    "    right_true = y_true[15:20]\n",
    "    top_pred = y_pred[0:5]\n",
    "    bottom_pred = y_pred[5:10]\n",
    "    left_pred = y_pred[10:15]\n",
    "    right_pred = y_pred[15:20]\n",
    "    # determine the (x, y)-coordinates of the intersection rectangle\n",
    "    li = np.maximum(left_true, left_pred)\n",
    "    bi = np.minimum(bottom_true, bottom_pred)\n",
    "    ri = np.minimum(right_true, right_pred)\n",
    "    ti = np.maximum(top_true, top_pred)\n",
    "    #print ti[0],bi[0],li[0],ri[0]\n",
    "    # compute the area of intersection rectangle\n",
    "    interArea = np.multiply(np.subtract(ri , li) ,np.subtract(bi , ti))\n",
    "    #print interArea[0]\n",
    "    # compute the area of both the prediction and ground-truth\n",
    "    # rectangles\n",
    "    true_area = np.multiply(np.subtract(bottom_true,top_true),np.subtract(right_true,left_true)) +.00001\n",
    "    pred_area = np.multiply(np.subtract(bottom_pred,top_pred),np.subtract(right_pred,left_pred)) +.00001\n",
    "\n",
    "    # compute the intersection over union by taking the intersection\n",
    "    # area and dividing it by the sum of prediction + ground-truth\n",
    "    # areas - the interesection area\n",
    "    iou = np.divide(interArea,np.subtract(np.add(true_area, pred_area), interArea))\n",
    "\n",
    "    # return the intersection over union value\n",
    "    return iou"
   ]
  },
  {
   "cell_type": "code",
   "execution_count": null,
   "metadata": {
    "collapsed": true,
    "deletable": true,
    "editable": true
   },
   "outputs": [],
   "source": []
  },
  {
   "cell_type": "markdown",
   "metadata": {
    "deletable": true,
    "editable": true
   },
   "source": [
    "### Question 4\n",
    "_Describe how you set up the training and testing data for your model. How does the model perform on a realistic dataset?_"
   ]
  },
  {
   "cell_type": "markdown",
   "metadata": {
    "deletable": true,
    "editable": true
   },
   "source": [
    "## IOU\n",
    "Adrian Rosebrock\n",
    "http://www.pyimagesearch.com/2016/11/07/intersection-over-union-iou-for-object-detection/\n",
    "\n",
    "Pixel coordinate refrences may be screwy if errors double check here!"
   ]
  },
  {
   "cell_type": "markdown",
   "metadata": {
    "deletable": true,
    "editable": true
   },
   "source": [
    "**Answer:**"
   ]
  },
  {
   "cell_type": "markdown",
   "metadata": {
    "deletable": true,
    "editable": true
   },
   "source": [
    "### Question 5\n",
    "_What changes did you have to make, if any, to achieve \"good\" results? Were there any options you explored that made the results worse?_"
   ]
  },
  {
   "cell_type": "markdown",
   "metadata": {
    "deletable": true,
    "editable": true
   },
   "source": [
    "**Answer:**"
   ]
  },
  {
   "cell_type": "markdown",
   "metadata": {
    "deletable": true,
    "editable": true
   },
   "source": [
    "### Question 6\n",
    "_What were your initial and final results with testing on a realistic dataset? Do you believe your model is doing a good enough job at classifying numbers correctly?_"
   ]
  },
  {
   "cell_type": "markdown",
   "metadata": {
    "deletable": true,
    "editable": true
   },
   "source": [
    "**Answer:**"
   ]
  },
  {
   "cell_type": "markdown",
   "metadata": {
    "deletable": true,
    "editable": true
   },
   "source": [
    "----\n",
    "## Step 3: Test a Model on Newly-Captured Images\n",
    "\n",
    "Take several pictures of numbers that you find around you (at least five), and run them through your classifier on your computer to produce example results. Alternatively (optionally), you can try using OpenCV / SimpleCV / Pygame to capture live images from a webcam and run those through your classifier."
   ]
  },
  {
   "cell_type": "markdown",
   "metadata": {
    "deletable": true,
    "editable": true
   },
   "source": [
    "### Implementation\n",
    "Use the code cell (or multiple code cells, if necessary) to implement the first step of your project. Once you have completed your implementation and are satisfied with the results, be sure to thoroughly answer the questions that follow."
   ]
  },
  {
   "cell_type": "code",
   "execution_count": null,
   "metadata": {
    "collapsed": true,
    "deletable": true,
    "editable": true
   },
   "outputs": [],
   "source": [
    "\n",
    "\n",
    "### Your code implementation goes here.\n",
    "### Feel free to use as many code cells as needed.\n",
    "\n"
   ]
  },
  {
   "cell_type": "markdown",
   "metadata": {
    "deletable": true,
    "editable": true
   },
   "source": [
    "### Question 7\n",
    "_Choose five candidate images of numbers you took from around you and provide them in the report. Are there any particular qualities of the image(s) that might make classification difficult?_"
   ]
  },
  {
   "cell_type": "markdown",
   "metadata": {
    "deletable": true,
    "editable": true
   },
   "source": [
    "**Answer:**"
   ]
  },
  {
   "cell_type": "markdown",
   "metadata": {
    "deletable": true,
    "editable": true
   },
   "source": [
    "### Question 8\n",
    "_Is your model able to perform equally well on captured pictures or a live camera stream when compared to testing on the realistic dataset?_"
   ]
  },
  {
   "cell_type": "markdown",
   "metadata": {
    "deletable": true,
    "editable": true
   },
   "source": [
    "**Answer:**"
   ]
  },
  {
   "cell_type": "markdown",
   "metadata": {
    "deletable": true,
    "editable": true
   },
   "source": [
    "### Optional: Question 9\n",
    "_If necessary, provide documentation for how an interface was built for your model to load and classify newly-acquired images._"
   ]
  },
  {
   "cell_type": "markdown",
   "metadata": {
    "deletable": true,
    "editable": true
   },
   "source": [
    "**Answer:** Leave blank if you did not complete this part."
   ]
  },
  {
   "cell_type": "markdown",
   "metadata": {
    "deletable": true,
    "editable": true
   },
   "source": [
    "----\n",
    "### Step 4: Explore an Improvement for a Model\n",
    "\n",
    "There are many things you can do once you have the basic classifier in place. One example would be to also localize where the numbers are on the image. The SVHN dataset provides bounding boxes that you can tune to train a localizer. Train a regression loss to the coordinates of the bounding box, and then test it. "
   ]
  },
  {
   "cell_type": "code",
   "execution_count": null,
   "metadata": {
    "collapsed": true
   },
   "outputs": [],
   "source": []
  },
  {
   "cell_type": "markdown",
   "metadata": {
    "deletable": true,
    "editable": true
   },
   "source": [
    "### Implementation\n",
    "Use the code cell (or multiple code cells, if necessary) to implement the first step of your project. Once you have completed your implementation and are satisfied with the results, be sure to thoroughly answer the questions that follow."
   ]
  },
  {
   "cell_type": "code",
   "execution_count": null,
   "metadata": {
    "collapsed": true,
    "deletable": true,
    "editable": true
   },
   "outputs": [],
   "source": [
    "\n",
    "\n",
    "### Your code implementation goes here.\n",
    "### Feel free to use as many code cells as needed.\n",
    "\n"
   ]
  },
  {
   "cell_type": "markdown",
   "metadata": {
    "deletable": true,
    "editable": true
   },
   "source": [
    "### Question 10\n",
    "_How well does your model localize numbers on the testing set from the realistic dataset? Do your classification results change at all with localization included?_"
   ]
  },
  {
   "cell_type": "markdown",
   "metadata": {
    "deletable": true,
    "editable": true
   },
   "source": [
    "**Answer:**"
   ]
  },
  {
   "cell_type": "markdown",
   "metadata": {
    "deletable": true,
    "editable": true
   },
   "source": [
    "### Question 11\n",
    "_Test the localization function on the images you captured in **Step 3**. Does the model accurately calculate a bounding box for the numbers in the images you found? If you did not use a graphical interface, you may need to investigate the bounding boxes by hand._ Provide an example of the localization created on a captured image."
   ]
  },
  {
   "cell_type": "markdown",
   "metadata": {
    "deletable": true,
    "editable": true
   },
   "source": [
    "**Answer:**"
   ]
  },
  {
   "cell_type": "markdown",
   "metadata": {
    "deletable": true,
    "editable": true
   },
   "source": [
    "----\n",
    "## Optional Step 5: Build an Application or Program for a Model\n",
    "Take your project one step further. If you're interested, look to build an Android application or even a more robust Python program that can interface with input images and display the classified numbers and even the bounding boxes. You can for example try to build an augmented reality app by overlaying your answer on the image like the [Word Lens](https://en.wikipedia.org/wiki/Word_Lens) app does.\n",
    "\n",
    "Loading a TensorFlow model into a camera app on Android is demonstrated in the [TensorFlow Android demo app](https://github.com/tensorflow/tensorflow/tree/master/tensorflow/examples/android), which you can simply modify.\n",
    "\n",
    "If you decide to explore this optional route, be sure to document your interface and implementation, along with significant results you find. You can see the additional rubric items that you could be evaluated on by [following this link](https://review.udacity.com/#!/rubrics/413/view)."
   ]
  },
  {
   "cell_type": "markdown",
   "metadata": {
    "deletable": true,
    "editable": true
   },
   "source": [
    "### Optional Implementation\n",
    "Use the code cell (or multiple code cells, if necessary) to implement the first step of your project. Once you have completed your implementation and are satisfied with the results, be sure to thoroughly answer the questions that follow."
   ]
  },
  {
   "cell_type": "code",
   "execution_count": 33,
   "metadata": {
    "collapsed": false,
    "scrolled": false
   },
   "outputs": [
    {
     "data": {
      "image/png": "[encoded data removed]",
      "text/plain": [
       "<matplotlib.figure.Figure at 0x7f08723f16d0>"
      ]
     },
     "metadata": {},
     "output_type": "display_data"
    },
    {
     "data": {
      "image/png": "[encoded data removed]",
      "text/plain": [
       "<matplotlib.figure.Figure at 0x7f0904d6c9d0>"
      ]
     },
     "metadata": {},
     "output_type": "display_data"
    },
    {
     "data": {
      "image/png": "[encoded data removed]",
      "text/plain": [
       "<matplotlib.figure.Figure at 0x7f0905f86210>"
      ]
     },
     "metadata": {},
     "output_type": "display_data"
    },
    {
     "data": {
      "image/png": "[encoded data removed]",
      "text/plain": [
       "<matplotlib.figure.Figure at 0x7f0905ee6590>"
      ]
     },
     "metadata": {},
     "output_type": "display_data"
    },
    {
     "data": {
      "image/png": "[encoded data removed]",
      "text/plain": [
       "<matplotlib.figure.Figure at 0x7f0871f78f10>"
      ]
     },
     "metadata": {},
     "output_type": "display_data"
    },
    {
     "data": {
      "image/png": "[encoded data removed]",
      "text/plain": [
       "<matplotlib.figure.Figure at 0x7f0905ee6390>"
      ]
     },
     "metadata": {},
     "output_type": "display_data"
    },
    {
     "name": "stdout",
     "output_type": "stream",
     "text": [
      "[array([ 0.        ,  0.27671996,  0.18924017,  0.13017185,  0.10511347,\n",
      "        0.08469553,  0.06445722,  0.05619424,  0.04745225,  0.04344051,\n",
      "        0.00251482]), array([ 0.15379319,  0.09975451,  0.0937369 ,  0.08891683,  0.08403688,\n",
      "        0.085923  ,  0.0745165 ,  0.07903718,  0.07122328,  0.06828932,\n",
      "        0.10077241]), array([ 0.69657506,  0.03377043,  0.02942938,  0.03164481,  0.02930962,\n",
      "        0.03134543,  0.0285911 ,  0.02877073,  0.02814203,  0.02410035,\n",
      "        0.03832106]), array([ 0.95676906,  0.00467038,  0.00449075,  0.0035926 ,  0.00482007,\n",
      "        0.00401174,  0.00389198,  0.00344291,  0.00419137,  0.00362254,\n",
      "        0.00649662]), array([  9.99700617e-01,   5.98766541e-05,   0.00000000e+00,\n",
      "         5.98766541e-05,   0.00000000e+00,   5.98766541e-05,\n",
      "         0.00000000e+00,   5.98766541e-05,   0.00000000e+00,\n",
      "         2.99383270e-05,   2.99383270e-05]), array([  0.00000000e+00,   1.53793186e-01,   5.42781869e-01,\n",
      "         2.60194000e-01,   4.29315610e-02,   2.69444943e-04,\n",
      "         0.00000000e+00,   0.00000000e+00,   2.99383270e-05,\n",
      "         0.00000000e+00,   0.00000000e+00])]\n"
     ]
    }
   ],
   "source": [
    "import matplotlib.mlab as mlab\n",
    "list_label = data['label'].tolist()\n",
    "digits = []\n",
    "digits = [[] for x in xrange(6)]\n",
    "for arr in list_label:\n",
    "    for digit in xrange(6):\n",
    "        digits[digit].append(arr[digit])\n",
    "\n",
    "class_weight = {}\n",
    "itr = 0\n",
    "for digit in digits:\n",
    "\n",
    "    # the histogram of the data\n",
    "    n, bins, patches = plt.hist(digit, bins=11, normed=1, range=(-.5,10.5),facecolor='green')\n",
    "    class_weight[dense_11n)\n",
    "    plt.show()\n",
    "    itr++\n",
    "print probs\n",
    "#plt.xlabel('Smarts')\n",
    "#plt.ylabel('Probability')\n",
    "#plt.title(r'$\\mathrm{Histogram\\ of\\ IQ:}\\ \\mu=100,\\ \\sigma=15$')\n",
    "#plt.axis([40, 160, 0, 0.03])\n",
    "#plt.grid(True)\n",
    "\n",
    "\n",
    "#plt.scatter(range(0,len(data['label'])), length_list)\n",
    "#plt.show()"
   ]
  },
  {
   "cell_type": "code",
   "execution_count": null,
   "metadata": {
    "collapsed": true,
    "deletable": true,
    "editable": true
   },
   "outputs": [],
   "source": [
    "\n",
    "\n",
    "### Your optional code implementation goes here.\n",
    "### Feel free to use as many code cells as needed.\n",
    "\n"
   ]
  },
  {
   "cell_type": "markdown",
   "metadata": {
    "deletable": true,
    "editable": true
   },
   "source": [
    "### Documentation\n",
    "Provide additional documentation sufficient for detailing the implementation of the Android application or Python program for visualizing the classification of numbers in images. It should be clear how the program or application works. Demonstrations should be provided. "
   ]
  },
  {
   "cell_type": "markdown",
   "metadata": {
    "deletable": true,
    "editable": true
   },
   "source": [
    "_Write your documentation here._"
   ]
  },
  {
   "cell_type": "markdown",
   "metadata": {
    "deletable": true,
    "editable": true
   },
   "source": [
    "> **Note**: Once you have completed all of the code implementations and successfully answered each question above, you may finalize your work by exporting the iPython Notebook as an HTML document. You can do this by using the menu above and navigating to  \n",
    "**File -> Download as -> HTML (.html)**. Include the finished document along with this notebook as your submission."
   ]
  }
 ],
 "metadata": {
  "kernelspec": {
   "display_name": "Python 2",
   "language": "python",
   "name": "python2"
  },
  "language_info": {
   "codemirror_mode": {
    "name": "ipython",
    "version": 2
   },
   "file_extension": ".py",
   "mimetype": "text/x-python",
   "name": "python",
   "nbconvert_exporter": "python",
   "pygments_lexer": "ipython2",
   "version": "2.7.12"
  }
 },
 "nbformat": 4,
 "nbformat_minor": 0
}
