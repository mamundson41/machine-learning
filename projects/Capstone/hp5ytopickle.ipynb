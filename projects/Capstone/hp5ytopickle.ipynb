{
 "cells": [
  {
   "cell_type": "markdown",
   "metadata": {},
   "source": [
    "# function to load h5py data into Python"
   ]
  },
  {
   "cell_type": "code",
   "execution_count": 1,
   "metadata": {},
   "outputs": [
    {
     "name": "stderr",
     "output_type": "stream",
     "text": [
      "Using TensorFlow backend.\n"
     ]
    }
   ],
   "source": [
    "from sklearn.utils import shuffle\n",
    "import numpy as np\n",
    "import h5py\n",
    "import matplotlib.pyplot as plt\n",
    "%matplotlib inline\n",
    "from scipy import misc\n",
    "from keras.utils import np_utils\n",
    "from keras.models import Model\n",
    "from keras.layers import Dense, Input, merge, Convolution2D, MaxPooling2D\n",
    "from keras.layers import Dropout, Flatten\n",
    "#Code structure to import .mat file\n",
    "def mat_open(f):\n",
    "    data= {}\n",
    "    data['height'] = []\n",
    "    data['label'] = []\n",
    "    data['left'] = []\n",
    "    data['top'] = []\n",
    "    data['width'] = []\n",
    "    data['names'] = []\n",
    "    def get_bbox(name, obj):\n",
    "        vals = []\n",
    "        if obj.shape[0] == 1:\n",
    "            vals.append(obj[0][0])\n",
    "        else:\n",
    "            for k in range(obj.shape[0]):\n",
    "                vals.append(f[obj[k][0]][0][0])\n",
    "        data[name].append(vals)\n",
    "\n",
    "\n",
    "    for item in f['digitStruct/bbox']:\n",
    "        f[item[0]].visititems(get_bbox)\n",
    "    def get_name(index, hdf5_data):\n",
    "        name = hdf5_data['/digitStruct/name']\n",
    "        return ''.join([chr(v[0]) for v in hdf5_data[name[index][0]].value])\n",
    "    for index in range(0,f['/digitStruct/name'].shape[0]):\n",
    "        data['names'].append(get_name(index,f))\n",
    "    #Make labels 6 digits long\n",
    "    for label in data['label']:\n",
    "        num_dig = len(label)\n",
    "        if len(label)<5:\n",
    "            label+=[0 for item in range(0,5-len(label))]\n",
    "        label+=[num_dig]\n",
    "        \n",
    "    for key in ['left','top','width','height']:\n",
    "        for itr in xrange(len(data[key])):\n",
    "            if len(data[key][itr])>5:\n",
    "                data[key][itr] = data[key][itr][0:5]\n",
    "    #find right and bottom of bounding box\n",
    "    for key in data:\n",
    "        data[key]=np.asarray([np.asarray(obj) for obj in data[key]])\n",
    "    data['right'] =data['left']+data['width']\n",
    "    data['bottom'] = data['top']+data['height']\n",
    "    \n",
    "    data['unified_label']=np.zeros((len(data['label']),data['label'][0].shape[0]))\n",
    "\n",
    "    for i in range(0,len(data['label'])):\n",
    "        data['unified_label'][i,:] = data['label'][i][0:6]\n",
    "    return data"
   ]
  },
  {
   "cell_type": "code",
   "execution_count": 2,
   "metadata": {
    "collapsed": true
   },
   "outputs": [],
   "source": [
    "train_file = h5py.File('train/train/digitStruct.mat')\n",
    "data=mat_open(train_file)\n",
    "test_file = h5py.File('test/test/digitStruct.mat')\n",
    "test_data=mat_open(test_file)\n",
    "extra_file = h5py.File('extra/extra/digitStruct.mat')\n",
    "extra=mat_open(extra_file)"
   ]
  },
  {
   "cell_type": "code",
   "execution_count": 3,
   "metadata": {
    "collapsed": true
   },
   "outputs": [],
   "source": [
    "#Shuffle data\n",
    "np.random.seed(0)\n",
    "from sklearn.utils import shuffle\n",
    "for key in data:\n",
    "    data[key] = shuffle(data[key],random_state=10)\n",
    "for key in test_data:\n",
    "    test_data[key] = shuffle(test_data[key], random_state=10)\n",
    "for key in extra:\n",
    "    extra[key] = shuffle(extra[key], random_state=10)"
   ]
  },
  {
   "cell_type": "code",
   "execution_count": 4,
   "metadata": {
    "collapsed": true
   },
   "outputs": [],
   "source": [
    "#Save data as pickle file\n",
    "import cPickle as pickle\n",
    "pickle.dump( data, open( \"data.p\", \"wb\" ) )\n",
    "pickle.dump( test_data, open( \"test_data.p\", \"wb\" ) )\n",
    "pickle.dump( extra, open( \"extra.p\", \"wb\" ) )"
   ]
  },
  {
   "cell_type": "code",
   "execution_count": null,
   "metadata": {
    "collapsed": true
   },
   "outputs": [],
   "source": []
  }
 ],
 "metadata": {
  "kernelspec": {
   "display_name": "jupytertf",
   "language": "python",
   "name": "tensorflow"
  },
  "language_info": {
   "codemirror_mode": {
    "name": "ipython",
    "version": 2
   },
   "file_extension": ".py",
   "mimetype": "text/x-python",
   "name": "python",
   "nbconvert_exporter": "python",
   "pygments_lexer": "ipython2",
   "version": "2.7.12"
  }
 },
 "nbformat": 4,
 "nbformat_minor": 1
}
